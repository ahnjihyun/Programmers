{
  "nbformat": 4,
  "nbformat_minor": 0,
  "metadata": {
    "colab": {
      "name": "220428_실패율(pass).ipynb",
      "provenance": [],
      "authorship_tag": "ABX9TyMBiIkfkTpDzRbYQ8sORFq8",
      "include_colab_link": true
    },
    "kernelspec": {
      "name": "python3",
      "display_name": "Python 3"
    },
    "language_info": {
      "name": "python"
    }
  },
  "cells": [
    {
      "cell_type": "markdown",
      "metadata": {
        "id": "view-in-github",
        "colab_type": "text"
      },
      "source": [
        "<a href=\"https://colab.research.google.com/github/ahnjihyun/Programmers/blob/main/220428_%EC%8B%A4%ED%8C%A8%EC%9C%A8(pass).ipynb\" target=\"_parent\"><img src=\"https://colab.research.google.com/assets/colab-badge.svg\" alt=\"Open In Colab\"/></a>"
      ]
    },
    {
      "cell_type": "markdown",
      "source": [
        "### test zone"
      ],
      "metadata": {
        "id": "sd4VkzQq1AsL"
      }
    },
    {
      "cell_type": "code",
      "source": [
        "# 전체 스테이지의 개수 N, \n",
        "# 게임을 이용하는 사용자가 현재 멈춰있는 스테이지의 번호가 담긴 배열 stages\n",
        "# 실패율 = 스테이지에 도달했으나 아직 클리어하지 못한 플레이어의 수 / 스테이지에 도달한 플레이어 수\n",
        "\n",
        "def solution(N, stages):\n",
        "    ratio_list = []\n",
        "    answer = []\n",
        "\n",
        "    for i in range(1,N+1):\n",
        "            top = stages.count(i)\n",
        "            bt_cnt = 0\n",
        "            bt_cnt = [bt_cnt +1 for stg in stages if stg >= i]\n",
        "            #print(bt_cnt) # [1, 1, 1, 1, 1, 1, 1, 1]\n",
        "            bottom = bt_cnt.count(1)\n",
        "            fail_ratio = top / bottom \n",
        "            ratio_list.append(fail_ratio)\n",
        "    \n",
        "    return ratio_list\n",
        "\n",
        "N =5 \n",
        "stages = [2, 1, 2, 6, 2, 4, 3, 3]\n",
        "print(solution(N,stages))\n",
        "# [3,4,2,1,5]"
      ],
      "metadata": {
        "colab": {
          "base_uri": "https://localhost:8080/"
        },
        "id": "9zdKHsDujaQE",
        "outputId": "03fab838-f95c-4117-bfc0-36a6a49a06a7"
      },
      "execution_count": 10,
      "outputs": [
        {
          "output_type": "stream",
          "name": "stdout",
          "text": [
            "[0.125, 0.42857142857142855, 0.5, 0.5, 0.0]\n"
          ]
        }
      ]
    },
    {
      "cell_type": "markdown",
      "source": [
        "### 제출 코드"
      ],
      "metadata": {
        "id": "cnoTwsz31FMh"
      }
    },
    {
      "cell_type": "code",
      "execution_count": 64,
      "metadata": {
        "id": "eq-VxTAYLhUu",
        "colab": {
          "base_uri": "https://localhost:8080/"
        },
        "outputId": "5ef9a4ee-d987-48f5-cc86-ec90518f5774"
      },
      "outputs": [
        {
          "output_type": "stream",
          "name": "stdout",
          "text": [
            "[3, 4, 2, 1, 5]\n"
          ]
        }
      ],
      "source": [
        "# 전체 스테이지의 개수 N, \n",
        "# 게임을 이용하는 사용자가 현재 멈춰있는 스테이지의 번호가 담긴 배열 stages\n",
        "# 실패율 = 스테이지에 도달했으나 아직 클리어하지 못한 플레이어의 수 / 스테이지에 도달한 플레이어 수\n",
        "\n",
        "def solution(N, stages):\n",
        "    ratio_list = []\n",
        "    answer = []\n",
        "\n",
        "    for i in range(1,N+1):\n",
        "        top = stages.count(i)\n",
        "        bt_cnt = 0\n",
        "        for s in stages:\n",
        "            if s >= i:\n",
        "                bt_cnt += 1\n",
        "        bottom = bt_cnt\n",
        "\n",
        "        if bottom == 0 : \n",
        "            fail_ratio = 0\n",
        "        else: \n",
        "            fail_ratio = top / bottom \n",
        "        ratio_list.append([i, fail_ratio]) # [0.125, 0.42857142857142855, 0.5, 0.5, 0.0]\n",
        "        ans = sorted(ratio_list, key=lambda x : x[1], reverse=True) #[[3, 0.5], [4, 0.5], [2, 0.42857142857142855], [1, 0.125], [5, 0.0]] \n",
        "\n",
        "    for n in range(N): answer.append(ans[n][0])\n",
        "    \n",
        "    return answer\n",
        "\n",
        "N = 5 \n",
        "stages = [2, 1, 2, 6, 2, 4, 3, 3]\n",
        "# [3,4,2,1,5]\n",
        "\n",
        "#N = 4\n",
        "#stages = [4,4,4,4,4]\n",
        "# [4,1,2,3]\n",
        "print(solution(N,stages))"
      ]
    },
    {
      "cell_type": "markdown",
      "source": [
        "### 다른 풀이\n"
      ],
      "metadata": {
        "id": "iApVzDxe1JD7"
      }
    },
    {
      "cell_type": "code",
      "source": [
        "def solution(N, stages):\n",
        "    result = {}\n",
        "    denominator = len(stages) # 분모\n",
        "    for stage in range(1, N+1):\n",
        "        if denominator != 0:\n",
        "            count = stages.count(stage) # 분자\n",
        "            result[stage] = count / denominator\n",
        "            denominator -= count\n",
        "        else:\n",
        "            result[stage] = 0\n",
        "        # result == {1: 0.125, 2: 0.42857142857142855, 3: 0.5, 4: 0.5, 5: 0.0}\n",
        "    return sorted(result, key=lambda x : result[x], reverse=True) # x == result\n",
        "\n",
        "N = 5 \n",
        "stages = [2, 1, 2, 6, 2, 4, 3, 3]\n",
        "print(solution(N,stages))"
      ],
      "metadata": {
        "colab": {
          "base_uri": "https://localhost:8080/"
        },
        "id": "3D6_Ex081KWB",
        "outputId": "940c21cc-da73-4fef-eb74-3b09c4923ad9"
      },
      "execution_count": 63,
      "outputs": [
        {
          "output_type": "stream",
          "name": "stdout",
          "text": [
            "[3, 4, 2, 1, 5]\n"
          ]
        }
      ]
    },
    {
      "cell_type": "markdown",
      "source": [
        "##### 코드 해석"
      ],
      "metadata": {
        "id": "XfRtAJ4b3h43"
      }
    },
    {
      "cell_type": "code",
      "source": [
        "result = {1: 0.125, 2: 0.42857142857142855, 3: 0.5, 4: 0.5, 5: 0.0}\n",
        "\n",
        "# 함수 한줄에 쓰기(람다)\n",
        "# lambda 매개변수 : 표현식\n",
        "a = sorted(result, key=lambda x : result[x], reverse=True) # x==key, result==value \n",
        "######################################################################\n",
        "# 딕셔너리에서 lambda쓰면 왜 a가 key가 있는 리스트로 나오는지 모르겠다\n",
        "######################################################################\n",
        "print(a)"
      ],
      "metadata": {
        "colab": {
          "base_uri": "https://localhost:8080/"
        },
        "id": "grNvfijg3lEt",
        "outputId": "41ef1547-cd08-4680-996b-091c2882368a"
      },
      "execution_count": 68,
      "outputs": [
        {
          "output_type": "stream",
          "name": "stdout",
          "text": [
            "[3, 4, 2, 1, 5]\n"
          ]
        }
      ]
    }
  ]
}