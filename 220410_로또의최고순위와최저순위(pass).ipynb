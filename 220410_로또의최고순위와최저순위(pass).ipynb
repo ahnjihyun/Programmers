{
  "nbformat": 4,
  "nbformat_minor": 0,
  "metadata": {
    "colab": {
      "name": "220410_로또의 최고 순위와 최저 순위(pass).ipynb",
      "private_outputs": true,
      "provenance": [],
      "authorship_tag": "ABX9TyO1RAMKO9vNfLCmlJj2w/mq",
      "include_colab_link": true
    },
    "kernelspec": {
      "name": "python3",
      "display_name": "Python 3"
    },
    "language_info": {
      "name": "python"
    }
  },
  "cells": [
    {
      "cell_type": "markdown",
      "metadata": {
        "id": "view-in-github",
        "colab_type": "text"
      },
      "source": [
        "<a href=\"https://colab.research.google.com/github/ahnjihyun/Programmers/blob/main/220410_%EB%A1%9C%EB%98%90%EC%9D%98_%EC%B5%9C%EA%B3%A0_%EC%88%9C%EC%9C%84%EC%99%80_%EC%B5%9C%EC%A0%80_%EC%88%9C%EC%9C%84(pass).ipynb\" target=\"_parent\"><img src=\"https://colab.research.google.com/assets/colab-badge.svg\" alt=\"Open In Colab\"/></a>"
      ]
    },
    {
      "cell_type": "markdown",
      "source": [
        "### test code"
      ],
      "metadata": {
        "id": "CRxoNh1wNieq"
      }
    },
    {
      "cell_type": "code",
      "source": [
        "a = [1,5,8,22,4]\n",
        "print(sorted(a))\n",
        "print(a)"
      ],
      "metadata": {
        "id": "XGjCCO9NKm0c"
      },
      "execution_count": null,
      "outputs": []
    },
    {
      "cell_type": "code",
      "source": [
        "aa = [0,0,1,2,3,0]\n",
        "ss = aa.count(0)\n",
        "print(ss)"
      ],
      "metadata": {
        "id": "Kkb_ZZZjL0h_"
      },
      "execution_count": null,
      "outputs": []
    },
    {
      "cell_type": "code",
      "source": [
        "dd = [1,2]\n",
        "dd.append(3)\n",
        "print(dd)"
      ],
      "metadata": {
        "id": "L64B_ztpMSJ-"
      },
      "execution_count": null,
      "outputs": []
    },
    {
      "cell_type": "markdown",
      "source": [
        "### 내 풀이 "
      ],
      "metadata": {
        "id": "HJfeAAX3NlC8"
      }
    },
    {
      "cell_type": "code",
      "execution_count": null,
      "metadata": {
        "id": "3HrYCzmUW0no"
      },
      "outputs": [],
      "source": [
        "# [3,5]\n",
        "lottos = [44, 1, 0, 0, 31, 25]\n",
        "win_nums = [31, 10, 45, 1, 6, 19]\n",
        "\n",
        "# [1,6]\n",
        "lottos = [0, 0, 0, 0, 0, 0]\n",
        "win_nums = [38, 19, 20, 40, 15, 25]\n",
        "\n",
        "# [1,1]\n",
        "lottos = [45, 4, 35, 20, 3, 9]\n",
        "win_nums = [20, 9, 3, 45, 4, 35]\n",
        "\n",
        "def solution(lottos, win_nums):\n",
        "\n",
        "  min = 0\n",
        "  zero = lottos.count(0)\n",
        "  for lotto in sorted(lottos):\n",
        "    if lotto in win_nums:\n",
        "      min += 1\n",
        "  max = min + zero\n",
        "      \n",
        "  answer = []\n",
        "\n",
        "  if max == 6:\n",
        "    answer.append(1)\n",
        "  elif max == 5:\n",
        "    answer.append(2)\n",
        "  elif max == 4:\n",
        "    answer.append(3)\n",
        "  elif max == 3:\n",
        "    answer.append(4)\n",
        "  elif max == 2:\n",
        "    answer.append(5)\n",
        "  else:\n",
        "    answer.append(6)\n",
        "\n",
        "  if min == 6:\n",
        "    answer.append(1)\n",
        "  elif min == 5:\n",
        "    answer.append(2)\n",
        "  elif min == 4:\n",
        "    answer.append(3)\n",
        "  elif min == 3:\n",
        "    answer.append(4)\n",
        "  elif min == 2:\n",
        "    answer.append(5)\n",
        "  else:\n",
        "    answer.append(6)\n",
        "\n",
        "  return answer\n",
        "\n",
        "print(solution(lottos, win_nums))\n",
        "# [3,5]"
      ]
    },
    {
      "cell_type": "markdown",
      "source": [
        "### 다른 풀이 "
      ],
      "metadata": {
        "id": "-qpmAFzrNn9X"
      }
    },
    {
      "cell_type": "code",
      "source": [
        "# [3,5]\n",
        "lottos = [44, 1, 0, 0, 31, 25]\n",
        "win_nums = [31, 10, 45, 1, 6, 19]\n",
        "\n",
        "# [1,6]\n",
        "lottos = [0, 0, 0, 0, 0, 0]\n",
        "win_nums = [38, 19, 20, 40, 15, 25]\n",
        "\n",
        "# [1,1]\n",
        "lottos = [45, 4, 35, 20, 3, 9]\n",
        "win_nums = [20, 9, 3, 45, 4, 35]\n",
        "\n",
        "def solution(lottos, win_nums):\n",
        "\n",
        "  rank = [6,6,5,4,3,2,1] # 동일 숫자 개수 0,1,2,3,4,5,6\n",
        "\n",
        "  cnt_0 = lottos.count(0)\n",
        "  ans = 0\n",
        "  for x in lottos:\n",
        "    if x in win_nums:\n",
        "      ans += 1\n",
        "\n",
        "  return [rank[ans+cnt_0], rank[ans]]\n",
        "\n",
        "print(solution(lottos, win_nums))"
      ],
      "metadata": {
        "id": "Tx2k1f1ANpac"
      },
      "execution_count": null,
      "outputs": []
    },
    {
      "cell_type": "markdown",
      "source": [
        "##### 분석\n"
      ],
      "metadata": {
        "id": "AsUoKswuSoBK"
      }
    },
    {
      "cell_type": "code",
      "source": [
        "# [3,5]\n",
        "lottos = [44, 1, 0, 0, 31, 25]\n",
        "win_nums = [31, 10, 45, 1, 6, 19]\n",
        "\n",
        "# [1,6]\n",
        "lottos = [0, 0, 0, 0, 0, 0]\n",
        "win_nums = [38, 19, 20, 40, 15, 25]\n",
        "\n",
        "# [1,1]\n",
        "lottos = [45, 4, 35, 20, 3, 9]\n",
        "win_nums = [20, 9, 3, 45, 4, 35]\n",
        "\n",
        "def solution(lottos, win_nums):\n",
        "\n",
        "  # 동일 숫자 개수(0,1,2,3,4,5,6)를 인덱스로 활용하는게 포인트!!\n",
        "  rank = [6,6,5,4,3,2,1]\n",
        "\n",
        "  cnt_0 = lottos.count(0)\n",
        "  ans = 0 \n",
        "  for x in lottos:\n",
        "    if x in win_nums:\n",
        "      ans += 1\n",
        "  return [rank[cnt_0 + ans], rank[ans]] ### [cnt_0 + ans] >> 이렇게 인덱스로 활용\n",
        "\n",
        "print(solution(lottos, win_nums))\n",
        "# [3,5]"
      ],
      "metadata": {
        "id": "rdFhyQzrRWHV"
      },
      "execution_count": null,
      "outputs": []
    }
  ]
}
