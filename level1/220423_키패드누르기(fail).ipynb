{
  "nbformat": 4,
  "nbformat_minor": 0,
  "metadata": {
    "colab": {
      "name": "220423_키패드누르기(fail).ipynb",
      "provenance": [],
      "authorship_tag": "ABX9TyMstc9mkXGGVlfoh7IcDiuV",
      "include_colab_link": true
    },
    "kernelspec": {
      "name": "python3",
      "display_name": "Python 3"
    },
    "language_info": {
      "name": "python"
    }
  },
  "cells": [
    {
      "cell_type": "markdown",
      "metadata": {
        "id": "view-in-github",
        "colab_type": "text"
      },
      "source": [
        "<a href=\"https://colab.research.google.com/github/ahnjihyun/Programmers/blob/main/220423_%ED%82%A4%ED%8C%A8%EB%93%9C%EB%88%84%EB%A5%B4%EA%B8%B0(fail).ipynb\" target=\"_parent\"><img src=\"https://colab.research.google.com/assets/colab-badge.svg\" alt=\"Open In Colab\"/></a>"
      ]
    },
    {
      "cell_type": "markdown",
      "source": [
        "### test zone "
      ],
      "metadata": {
        "id": "v1dQgmsiIowe"
      }
    },
    {
      "cell_type": "code",
      "source": [
        "keypad_list = [['1','2','3'],\n",
        "               ['4','5','6'],\n",
        "               ['7','8','9'],\n",
        "               ['*','0','#']]\n",
        "#print(keypad_list[0][0]) # 1\n",
        "#print(keypad_list[1][1]) # 5\n",
        "#print(keypad_list[2][2]) # 9\n",
        "#print(keypad_list[3][1]) # 0\n",
        "\n",
        "#=============\n",
        "# print(keypad_list[3].index('0')) # 1\n",
        "\n",
        "## keypad_list[n][m] 에서 n 찾기\n",
        "a = '9'\n",
        "for i in range(len(keypad_list)):\n",
        "  if a in keypad_list[i]:\n",
        "    print(i)\n",
        "\n",
        "# keypad_list[n][m] 에서 m 찾기\n",
        "n = '4'\n",
        "for i in range(len(keypad_list)):\n",
        "  if n in keypad_list[i]:\n",
        "    print(keypad_list[i].index(n))\n",
        "#==============\n",
        "#왼손엄지 keypad_list[n][0]\n",
        "#오른손엄지 keypad_list[n][2]\n",
        "#더 가까운손가락(거리가 동일하면 hand고려) keypad_list[n][1]"
      ],
      "metadata": {
        "colab": {
          "base_uri": "https://localhost:8080/"
        },
        "id": "9am85Gj-Oktj",
        "outputId": "705107bb-afe9-46c4-ddd0-e46df9e4ee6f"
      },
      "execution_count": 16,
      "outputs": [
        {
          "output_type": "stream",
          "name": "stdout",
          "text": [
            "2\n",
            "0\n"
          ]
        }
      ]
    },
    {
      "cell_type": "code",
      "source": [
        "# # 왼손('7'), 오른손('#') 이고 hand =='left'일때, '8'을 눌러야하면?\n",
        "\n",
        "# 왼손 [2][-], 오른손 [3][-], 목표[2][-]\n",
        "\n",
        "# if abs(왼손 idx - 목표 idx) <= abs(오른손 idx - 목표 idx):\n",
        "#   ans.append('L')\n",
        "# elif abs(왼손 idx - 목표 idx) > abs(왼손 idx - 목표 idx):\n",
        "#   ans.append('R')\n",
        "\n",
        "\n",
        "# # 왼손('*'), 오른손('#') 이고 hand =='right'일때, '0'을 눌러야하면?\n",
        "\n",
        "# 왼손 [3][-], 오른손 [3][-], 목표[3][-]\n",
        "\n",
        "# if abs(왼손 idx - 목표 idx) < abs(오른손 idx - 목표 idx):\n",
        "#   ans.append('L')\n",
        "# elif abs(왼손 idx - 목표 idx) >= abs(왼손 idx - 목표 idx):\n",
        "#   ans.append('R')\n",
        "\n",
        "\n",
        "# ================\n",
        "\n",
        "if hand == 'left':\n",
        "    if abs(왼손 idx - 목표 idx) <= abs(오른손 idx - 목표 idx):\n",
        "        ans.append('L')\n",
        "    elif abs(왼손 idx - 목표 idx) > abs(왼손 idx - 목표 idx):\n",
        "        ans.append('R')\n",
        "else:\n",
        "    if abs(왼손 idx - 목표 idx) < abs(오른손 idx - 목표 idx):\n",
        "        ans.append('L')\n",
        "    elif abs(왼손 idx - 목표 idx) >= abs(왼손 idx - 목표 idx):\n",
        "        ans.append('R')\n",
        "\n",
        "# ============\n",
        "keypad_list = [['1','2','3'],\n",
        "               ['4','5','6'],\n",
        "               ['7','8','9'],\n",
        "               ['*','0','#']]\n",
        "n = '4'\n",
        "for i in range(len(keypad_list)):\n",
        "  if n in keypad_list[i]:\n",
        "    print(i) # keypad_list[n][m]에서 n 반환 # 1"
      ],
      "metadata": {
        "id": "5xjsyoe0PDeT"
      },
      "execution_count": null,
      "outputs": []
    },
    {
      "cell_type": "code",
      "execution_count": 2,
      "metadata": {
        "colab": {
          "base_uri": "https://localhost:8080/"
        },
        "id": "1SJSBecvIlrU",
        "outputId": "1ded4179-4ddd-445b-ec6c-3e8e33a94e28"
      },
      "outputs": [
        {
          "output_type": "stream",
          "name": "stdout",
          "text": [
            "1\n",
            "5\n",
            "9\n",
            "0\n"
          ]
        }
      ],
      "source": [
        "keypad_list = [['1','2','3'],\n",
        "               ['4','5','6'],\n",
        "               ['7','8','9'],\n",
        "               ['*','0','#']]\n",
        "               \n",
        "def solution(numbers, hand): \n",
        "    ans = []\n",
        "    left_cond = '*' # 초기화\n",
        "    right_cond = '#' # 초기화\n",
        "    for idx, n in enumerate(numbers):\n",
        "        if n == '1' or n == '4' or n == '7':\n",
        "            ans.append('L')\n",
        "            left_cond = n\n",
        "        elif n == '3' or n == '6' or n == '9':\n",
        "            ans.append('R')\n",
        "            right_cond = n \n",
        "        else: # n == 2,5,8,0\n",
        "            aa\n",
        "\n",
        "    answer = ''\n",
        "    return answer\n",
        "\n",
        "numbers = [1, 3, 4, 5, 8, 2, 1, 4, 5, 9, 5]\n",
        "hand = \"right\"\n",
        "# \"LRLLLRLLRRL\"\n",
        "#numbers = [7, 0, 8, 2, 8, 3, 1, 5, 7, 6, 2]\n",
        "#hand = \"left\"\n",
        "#\"LRLLRRLLLRR\"\n",
        "print(solution(numbers, hand)) "
      ]
    },
    {
      "cell_type": "code",
      "source": [
        "keypad_list = [['1','2','3'],\n",
        "               ['4','5','6'],\n",
        "               ['7','8','9'],\n",
        "               ['*','0','#']]\n",
        "               \n",
        "def solution(numbers, hand): \n",
        "    ans = []\n",
        "    left_cond = '*' # 초기화\n",
        "    right_cond = '#' # 초기화\n",
        "    for idx, n in enumerate(numbers):\n",
        "        if n == '1' or n == '4' or n == '7':\n",
        "            ans.append('L')\n",
        "            left_cond = n\n",
        "        elif n == '3' or n == '6' or n == '9':\n",
        "            ans.append('R')\n",
        "            right_cond = n \n",
        "        else: # n == 2,5,8,0\n",
        "            if hand == 'left':\n",
        "                if abs(왼손 idx - 목표 idx) <= abs(오른손 idx - 목표 idx):\n",
        "                    ans.append('L')\n",
        "                elif abs(왼손 idx - 목표 idx) > abs(왼손 idx - 목표 idx):\n",
        "                    ans.append('R')\n",
        "            else:\n",
        "                if abs(왼손 idx - 목표 idx) < abs(오른손 idx - 목표 idx):\n",
        "                    ans.append('L')\n",
        "                elif abs(왼손 idx - 목표 idx) >= abs(왼손 idx - 목표 idx):\n",
        "                    ans.append('R')\n",
        "\n",
        "    # answer = ''\n",
        "    return \"\".join(ans)\n",
        "\n",
        "numbers = [1, 3, 4, 5, 8, 2, 1, 4, 5, 9, 5]\n",
        "hand = \"right\"\n",
        "# \"LRLLLRLLRRL\"\n",
        "#numbers = [7, 0, 8, 2, 8, 3, 1, 5, 7, 6, 2]\n",
        "#hand = \"left\"\n",
        "#\"LRLLRRLLLRR\"\n",
        "print(solution(numbers, hand)) "
      ],
      "metadata": {
        "id": "_qXgivHlWDU9"
      },
      "execution_count": null,
      "outputs": []
    },
    {
      "cell_type": "markdown",
      "source": [
        "### 제출한 답"
      ],
      "metadata": {
        "id": "Xvfsv6sltpBW"
      }
    },
    {
      "cell_type": "code",
      "source": [
        "## 키패드를 좌표로 저장\n",
        "keypad_dict = {1:[0,0], 2:[0,1], 3:[0,2], \n",
        "               4:[1,0], 5:[1,1], 6:[1,2],\n",
        "               7:[2,0], 8:[2,1], 9:[2,2],\n",
        "               '*':[3,0], 0:[3,1], '#':[3,2]}\n",
        "\n",
        "def solution(numbers, hand):\n",
        "    answer = ''\n",
        "    # 시작 위치\n",
        "    left_s = keypad_dict['*']\n",
        "    right_s = keypad_dict['#']\n",
        "\n",
        "    for n in numbers:\n",
        "        # 현재 위치\n",
        "        now = keypad_dict[n]\n",
        "\n",
        "        # n == 1,4,7을 누르는 경우 무조건 왼손\n",
        "        if n in [1,4,7]:\n",
        "            answer += 'L'\n",
        "            left_s = now ########## keypad_dict[n]\n",
        "\n",
        "        # n == 3,6,9를 누르는 경우 무조건 오른손\n",
        "        elif n in [3,6,9]:\n",
        "            answer += 'R'\n",
        "            right_s = now # keypad_dict[n]\n",
        "\n",
        "        # n == 2,5,8,0을 누르는 경우\n",
        "        else:\n",
        "            left_distance = 0 # 초기화\n",
        "            right_distance = 0\n",
        "\n",
        "            # 좌표거리 계산하기 ########\n",
        "            for ll, rr, nn in zip(left_s, right_s, now):\n",
        "                left_distance += abs(ll-nn)\n",
        "                right_distance += abs(rr-nn)\n",
        "\n",
        "            # 왼손이 더 가까운 경우\n",
        "            if left_distance < right_distance:\n",
        "                answer += 'L'\n",
        "                left_s = now\n",
        "          \n",
        "            # 오른손이 더 가까운 경우\n",
        "            elif left_distance > right_distance:\n",
        "                answer += 'R'\n",
        "                right_s = now\n",
        "            \n",
        "            # 거리가 같을 경우\n",
        "            else:\n",
        "                if hand == 'left':\n",
        "                    answer += 'L'\n",
        "                    left_s = now\n",
        "                else:\n",
        "                    answer += 'R'\n",
        "                    right_s = now\n",
        "        \n",
        "    return answer\n",
        "\n",
        "numbers = [1, 3, 4, 5, 8, 2, 1, 4, 5, 9, 5]\n",
        "hand = \"right\"\n",
        "# \"LRLLLRLLRRL\"\n",
        "\n",
        "numbers = [7, 0, 8, 2, 8, 3, 1, 5, 7, 6, 2]\n",
        "hand = \"left\"\n",
        "#\"LRLLRRLLLRR\"\n",
        "\n",
        "print(solution(numbers, hand))"
      ],
      "metadata": {
        "colab": {
          "base_uri": "https://localhost:8080/"
        },
        "id": "_W_7YuOKalhw",
        "outputId": "525340bd-b64d-4ddc-c48b-004b7109b5f4"
      },
      "execution_count": 24,
      "outputs": [
        {
          "output_type": "stream",
          "name": "stdout",
          "text": [
            "LRLLRRLLLRR\n"
          ]
        }
      ]
    },
    {
      "cell_type": "code",
      "source": [
        "############에러발생.. 위 셀 코드랑 뭐가 다르지??\n",
        "\n",
        "## 키패드를 좌표로 저장\n",
        "keypad_dict = {1:[0,0], 2:[0,1], 3:[0,2], \n",
        "               4:[1,0], 5:[1,1], 6:[1,2],\n",
        "               7:[2,0], 8:[2,1], 9:[2,2],\n",
        "               '*':[3,0], 0:[3,1], '#':[3,2]}\n",
        "\n",
        "def solution(numbers, hand):\n",
        "    answer = ''\n",
        "    \n",
        "    # 초기 손가락 위치\n",
        "    left_s = keypad_dict['*']\n",
        "    right_s = keypad_dict['#']\n",
        "    \n",
        "    for n in numbers:\n",
        "        # 현재 위치\n",
        "        now = keypad_dict[n]\n",
        "        \n",
        "        # n == 1,4,7을 누르는 경우 무조건 왼손\n",
        "        if n in [1,4,7]:\n",
        "            answer += 'L'\n",
        "            left_s = now # 손위치 업데이트\n",
        "            \n",
        "        # n ==3,6,9를 누르는 경우 무조건 오른손\n",
        "        elif n in [3,6,9]:\n",
        "            answer += 'R'\n",
        "            right_s = now # 손위치 업데이트 \n",
        "        \n",
        "        # n == 2,5,8,0을 누르는경우\n",
        "        else:\n",
        "            left_d = 0 # d(distance) 초기화\n",
        "            right_d = 0\n",
        "            \n",
        "            # 손위치 거리 계산\n",
        "            for l, r, n in zip(left_d, right_d, now):\n",
        "                left_d += abs(l-n)\n",
        "                right_d += abs(r-n)\n",
        "                \n",
        "            # 왼쪽이 더 가까운 경우\n",
        "            if left_d < right_d:\n",
        "                answer += 'L'\n",
        "                left_s = now ### 손가락위치 업데이트\n",
        "                \n",
        "            # 오른쪽이 더 가까운 경우\n",
        "            elif left_d > right_d:\n",
        "                answer += 'R'\n",
        "                right_s = now ### 손가락위치 업데이트\n",
        "            \n",
        "            # 거리가 같은 경우\n",
        "            else:\n",
        "                if hand == 'left':\n",
        "                    answer += 'L'\n",
        "                    left_s = now\n",
        "                else:\n",
        "                    answer += 'R'\n",
        "                    right_s = now\n",
        "    \n",
        "    return answer\n",
        "\n",
        "numbers = [7, 0, 8, 2, 8, 3, 1, 5, 7, 6, 2]\n",
        "hand = \"left\"\n",
        "#\"LRLLRRLLLRR\"\n",
        "\n",
        "print(solution(numbers, hand))"
      ],
      "metadata": {
        "colab": {
          "base_uri": "https://localhost:8080/",
          "height": 344
        },
        "id": "jyWlhP6Er2me",
        "outputId": "a7bb2dec-335c-431f-b485-45aed19f3960"
      },
      "execution_count": 32,
      "outputs": [
        {
          "output_type": "error",
          "ename": "TypeError",
          "evalue": "ignored",
          "traceback": [
            "\u001b[0;31m---------------------------------------------------------------------------\u001b[0m",
            "\u001b[0;31mTypeError\u001b[0m                                 Traceback (most recent call last)",
            "\u001b[0;32m<ipython-input-32-fb776657fa46>\u001b[0m in \u001b[0;36m<module>\u001b[0;34m()\u001b[0m\n\u001b[1;32m     61\u001b[0m \u001b[0;31m#\"LRLLRRLLLRR\"\u001b[0m\u001b[0;34m\u001b[0m\u001b[0;34m\u001b[0m\u001b[0;34m\u001b[0m\u001b[0m\n\u001b[1;32m     62\u001b[0m \u001b[0;34m\u001b[0m\u001b[0m\n\u001b[0;32m---> 63\u001b[0;31m \u001b[0mprint\u001b[0m\u001b[0;34m(\u001b[0m\u001b[0msolution\u001b[0m\u001b[0;34m(\u001b[0m\u001b[0mnumbers\u001b[0m\u001b[0;34m,\u001b[0m \u001b[0mhand\u001b[0m\u001b[0;34m)\u001b[0m\u001b[0;34m)\u001b[0m\u001b[0;34m\u001b[0m\u001b[0;34m\u001b[0m\u001b[0m\n\u001b[0m",
            "\u001b[0;32m<ipython-input-32-fb776657fa46>\u001b[0m in \u001b[0;36msolution\u001b[0;34m(numbers, hand)\u001b[0m\n\u001b[1;32m     32\u001b[0m \u001b[0;34m\u001b[0m\u001b[0m\n\u001b[1;32m     33\u001b[0m             \u001b[0;31m# 손위치 거리 계산\u001b[0m\u001b[0;34m\u001b[0m\u001b[0;34m\u001b[0m\u001b[0;34m\u001b[0m\u001b[0m\n\u001b[0;32m---> 34\u001b[0;31m             \u001b[0;32mfor\u001b[0m \u001b[0ml\u001b[0m\u001b[0;34m,\u001b[0m \u001b[0mr\u001b[0m\u001b[0;34m,\u001b[0m \u001b[0mn\u001b[0m \u001b[0;32min\u001b[0m \u001b[0mzip\u001b[0m\u001b[0;34m(\u001b[0m\u001b[0mleft_d\u001b[0m\u001b[0;34m,\u001b[0m \u001b[0mright_d\u001b[0m\u001b[0;34m,\u001b[0m \u001b[0mnow\u001b[0m\u001b[0;34m)\u001b[0m\u001b[0;34m:\u001b[0m\u001b[0;34m\u001b[0m\u001b[0;34m\u001b[0m\u001b[0m\n\u001b[0m\u001b[1;32m     35\u001b[0m                 \u001b[0mleft_d\u001b[0m \u001b[0;34m+=\u001b[0m \u001b[0mabs\u001b[0m\u001b[0;34m(\u001b[0m\u001b[0ml\u001b[0m\u001b[0;34m-\u001b[0m\u001b[0mn\u001b[0m\u001b[0;34m)\u001b[0m\u001b[0;34m\u001b[0m\u001b[0;34m\u001b[0m\u001b[0m\n\u001b[1;32m     36\u001b[0m                 \u001b[0mright_d\u001b[0m \u001b[0;34m+=\u001b[0m \u001b[0mabs\u001b[0m\u001b[0;34m(\u001b[0m\u001b[0mr\u001b[0m\u001b[0;34m-\u001b[0m\u001b[0mn\u001b[0m\u001b[0;34m)\u001b[0m\u001b[0;34m\u001b[0m\u001b[0;34m\u001b[0m\u001b[0m\n",
            "\u001b[0;31mTypeError\u001b[0m: zip argument #1 must support iteration"
          ]
        }
      ]
    },
    {
      "cell_type": "code",
      "source": [
        "aa = [3,2]\n",
        "bb = [1,1]\n",
        "\n",
        "c = 0\n",
        "for a,b in zip(aa,bb):\n",
        "  c += abs(a-b)\n",
        "print(c)"
      ],
      "metadata": {
        "colab": {
          "base_uri": "https://localhost:8080/"
        },
        "id": "B2rokQr-mwTA",
        "outputId": "902947d9-079e-44d0-b857-a2433e468414"
      },
      "execution_count": 31,
      "outputs": [
        {
          "output_type": "stream",
          "name": "stdout",
          "text": [
            "3\n"
          ]
        }
      ]
    }
  ]
}
