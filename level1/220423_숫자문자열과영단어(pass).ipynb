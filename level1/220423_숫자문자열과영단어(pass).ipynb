{
  "nbformat": 4,
  "nbformat_minor": 0,
  "metadata": {
    "colab": {
      "name": "220423_숫자문자열과영단어(pass).ipynb",
      "provenance": [],
      "authorship_tag": "ABX9TyOtkW5CD1kgVvmz0zG1fVRC",
      "include_colab_link": true
    },
    "kernelspec": {
      "name": "python3",
      "display_name": "Python 3"
    },
    "language_info": {
      "name": "python"
    }
  },
  "cells": [
    {
      "cell_type": "markdown",
      "metadata": {
        "id": "view-in-github",
        "colab_type": "text"
      },
      "source": [
        "<a href=\"https://colab.research.google.com/github/ahnjihyun/Programmers/blob/main/220423_%EC%88%AB%EC%9E%90%EB%AC%B8%EC%9E%90%EC%97%B4%EA%B3%BC%EC%98%81%EB%8B%A8%EC%96%B4(pass).ipynb\" target=\"_parent\"><img src=\"https://colab.research.google.com/assets/colab-badge.svg\" alt=\"Open In Colab\"/></a>"
      ]
    },
    {
      "cell_type": "markdown",
      "source": [
        "### test zone "
      ],
      "metadata": {
        "id": "U2R8srMGAU1F"
      }
    },
    {
      "cell_type": "code",
      "execution_count": 16,
      "metadata": {
        "colab": {
          "base_uri": "https://localhost:8080/"
        },
        "id": "-ftG2waV8Htm",
        "outputId": "820c698b-73cf-47a8-aee8-5ff73a9c7a1b"
      },
      "outputs": [
        {
          "output_type": "stream",
          "name": "stdout",
          "text": [
            "234567\n"
          ]
        }
      ],
      "source": [
        "### 런타임에러 5개/10개\n",
        "\n",
        "def solution(s):\n",
        "    string_list = ['zero', 'one', 'two', 'three', 'four', 'five', 'six', 'seven', 'eight', 'night']\n",
        "    for idx, st in enumerate(string_list): # s가 무엇이든 무조건 10번 반복 => 10이하로 반복할수는 없나? => 1번에 할수 있나?\n",
        "        if st in s:\n",
        "            #print(idx, st)\n",
        "            s = s.replace(st, str(idx))\n",
        "            #print(s)\n",
        "        else: \n",
        "            continue\n",
        "    return int(s)\n",
        "\n",
        "\n",
        "#s = \"one4seveneight\" # 1478\n",
        "s = \"23four5six7\"\t# 234567\n",
        "#s = \"2three45sixseven\" # 234567\n",
        "#s = \"123\"\t# 123\n",
        "\n",
        "print(solution(s))"
      ]
    },
    {
      "cell_type": "code",
      "source": [
        "### 여전히 런타임에러 5/10개\n",
        "\n",
        "def solution(s):\n",
        "    string_list = ['zero', 'one', 'two', 'three', 'four', 'five', 'six', 'seven', 'eight', 'night']\n",
        "    for idx, st in enumerate(string_list): # s가 무엇이든 무조건 10번 반복 => 10이하로 반복할수는 없나? => 1번에 할수 있나?\n",
        "        s = s.replace(st, str(idx))\n",
        "    return int(s)\n",
        "\n",
        "\n",
        "#s = \"one4seveneight\" # 1478\n",
        "s = \"23four5six7\"\t# 234567\n",
        "#s = \"2three45sixseven\" # 234567\n",
        "#s = \"123\"\t# 123\n",
        "\n",
        "print(solution(s))"
      ],
      "metadata": {
        "colab": {
          "base_uri": "https://localhost:8080/"
        },
        "id": "sCYHGlwvCFao",
        "outputId": "27f818ef-7265-4e77-ac2f-5b7447402c64"
      },
      "execution_count": 17,
      "outputs": [
        {
          "output_type": "stream",
          "name": "stdout",
          "text": [
            "234567\n"
          ]
        }
      ]
    },
    {
      "cell_type": "code",
      "source": [
        "def solution(s):\n",
        "    string_dict = {'zero':0, 'one':1, 'two':2, 'three':3, 'four':4, 'five':5, 'six':6, 'seven':7, 'eight':8, 'night':9}\n",
        "    for k,v in string_dict.items(): # s가 무엇이든 무조건 10번 반복 => 10이하로 반복할수는 없나? => 1번에 할수 있나?\n",
        "        s = s.replace(k, str(v))\n",
        "    return int(s)\n",
        "\n",
        "#s = \"one4seveneight\" # 1478\n",
        "s = \"23four5six7\"\t# 234567\n",
        "#s = \"2three45sixseven\" # 234567\n",
        "#s = \"123\"\t# 123\n",
        "\n",
        "print(solution(s))"
      ],
      "metadata": {
        "colab": {
          "base_uri": "https://localhost:8080/"
        },
        "id": "dVlq9wR0Clyj",
        "outputId": "81f432d2-44a5-4411-fad7-0e106fa19a57"
      },
      "execution_count": 23,
      "outputs": [
        {
          "output_type": "stream",
          "name": "stdout",
          "text": [
            "234567\n"
          ]
        }
      ]
    },
    {
      "cell_type": "markdown",
      "source": [
        "### 내 풀이 \n",
        "\n",
        "- 어이없는 실수.... nine을 night로 저장한 탓에 nine이 들어가는 테스트케이스 5개(3,6,7,8,9번)을 못 통과한거였음...\n"
      ],
      "metadata": {
        "id": "MzwD-DGEG1DM"
      }
    },
    {
      "cell_type": "markdown",
      "source": [
        "##### <리뷰>\n",
        "- string_sict를 리스트로 선언하고 for idx,string in numerate(string_list): 로 풀었어도 됐을것\n",
        "\n",
        "- 딕셔너리에 대해 replace를 쓸때, type(key) == str 이면 type(value)도 str으로 자료형을 동일하게 맞춰서 딕셔너리를 선언해놓으면 replace할때 replace(k,v)로 쓸 수 있어서 편함\n"
      ],
      "metadata": {
        "id": "4xdqGqmrHRsq"
      }
    },
    {
      "cell_type": "code",
      "source": [
        "string_dict = {'zero':'0', 'one':'1', 'two':'2', 'three':'3', 'four':'4', 'five':'5', 'six':'6', 'seven':'7', 'eight':'8', 'nine':'9'}\n",
        "\n",
        "def solution(s):\n",
        "    ans = s\n",
        "    for k, v in string_dict.items():\n",
        "        ans = ans.replace(k, v)\n",
        "    return int(ans)"
      ],
      "metadata": {
        "id": "tC7GzdQ-GSH3"
      },
      "execution_count": null,
      "outputs": []
    },
    {
      "cell_type": "markdown",
      "source": [
        "### 다른 풀이\n",
        "\n",
        "- (내 풀이랑 똑같음)"
      ],
      "metadata": {
        "id": "E-5e0paVAZbA"
      }
    },
    {
      "cell_type": "code",
      "source": [
        "num_dic = {\"zero\":\"0\", \"one\":\"1\", \"two\":\"2\", \"three\":\"3\", \"four\":\"4\", \"five\":\"5\", \"six\":\"6\", \"seven\":\"7\", \"eight\":\"8\", \"nine\":\"9\"}\n",
        "\n",
        "def solution(s):\n",
        "    answer = s\n",
        "    for key, value in num_dic.items():\n",
        "        answer = answer.replace(key, value)\n",
        "    return int(answer)"
      ],
      "metadata": {
        "id": "3Ep6VWFZAbbj"
      },
      "execution_count": null,
      "outputs": []
    }
  ]
}
