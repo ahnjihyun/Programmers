{
  "nbformat": 4,
  "nbformat_minor": 0,
  "metadata": {
    "colab": {
      "name": "220409_신고 결과 받기(pass).ipynb",
      "provenance": [],
      "authorship_tag": "ABX9TyNDDM3qlAyaeP7bC1V9vhbQ",
      "include_colab_link": true
    },
    "kernelspec": {
      "name": "python3",
      "display_name": "Python 3"
    },
    "language_info": {
      "name": "python"
    }
  },
  "cells": [
    {
      "cell_type": "markdown",
      "metadata": {
        "id": "view-in-github",
        "colab_type": "text"
      },
      "source": [
        "<a href=\"https://colab.research.google.com/github/ahnjihyun/Programmers/blob/main/220409_%EC%8B%A0%EA%B3%A0_%EA%B2%B0%EA%B3%BC_%EB%B0%9B%EA%B8%B0(pass).ipynb\" target=\"_parent\"><img src=\"https://colab.research.google.com/assets/colab-badge.svg\" alt=\"Open In Colab\"/></a>"
      ]
    },
    {
      "cell_type": "markdown",
      "source": [
        "### test zone"
      ],
      "metadata": {
        "id": "0RYgyLU-S0Pa"
      }
    },
    {
      "cell_type": "code",
      "source": [
        "id = ['a b','a b', 'a b', 'c d']\n",
        "id = list(set(id))\n",
        "print(id)"
      ],
      "metadata": {
        "colab": {
          "base_uri": "https://localhost:8080/"
        },
        "id": "_wtgTa_fvs-c",
        "outputId": "8b9e3cdc-ba9d-4a53-f05c-f4dfc2c91cf9"
      },
      "execution_count": 10,
      "outputs": [
        {
          "output_type": "stream",
          "name": "stdout",
          "text": [
            "['c d', 'a b']\n"
          ]
        }
      ]
    },
    {
      "cell_type": "code",
      "execution_count": 7,
      "metadata": {
        "colab": {
          "base_uri": "https://localhost:8080/"
        },
        "id": "m3NVBut4o5jI",
        "outputId": "5d8a5e52-df46-4e49-b49f-bdb6902abc6c"
      },
      "outputs": [
        {
          "output_type": "stream",
          "name": "stdout",
          "text": [
            "a\n",
            "c\n",
            "e\n"
          ]
        }
      ],
      "source": [
        "a = ['a b', 'c d', 'e f']\n",
        "\n",
        "id1 = []\n",
        "id2 = []\n",
        "for id in a:\n",
        "  # print(id)\n",
        "  a,b = id.split(' ')\n",
        "  print(a)\n",
        "  # a = id.split('')\n",
        "  # id1.append(a)\n",
        "# print(id1)"
      ]
    },
    {
      "cell_type": "code",
      "source": [
        "id_list = ['a', 'b', 'c']\n",
        "b = ['a', 'a', 'b', 'b', 'c', 'a']\n",
        "\n",
        "cnt_list = []\n",
        "for id in id_list:\n",
        "  cnt = b.count(id)\n",
        "  cnt_list.append(cnt)\n",
        "print(cnt_list)"
      ],
      "metadata": {
        "colab": {
          "base_uri": "https://localhost:8080/"
        },
        "id": "ZvVGE4jGsgr0",
        "outputId": "89870e0c-223d-4d3e-e85c-2bdfe659f1e3"
      },
      "execution_count": 8,
      "outputs": [
        {
          "output_type": "stream",
          "name": "stdout",
          "text": [
            "[3, 2, 1]\n"
          ]
        }
      ]
    },
    {
      "cell_type": "code",
      "source": [
        "id_list = ['a', 'b', 'c']\n",
        "cnt_list = [1,2,3]\n",
        "\n",
        "y = dict()\n",
        "for idx, key in enumerate(id_list):\n",
        "  y[key] = cnt_list[idx]\n",
        "\n",
        "print(y)\n"
      ],
      "metadata": {
        "colab": {
          "base_uri": "https://localhost:8080/"
        },
        "id": "6kwANywp3bvV",
        "outputId": "b4fd02bf-e24d-47c1-cdbf-8835e4e194de"
      },
      "execution_count": 12,
      "outputs": [
        {
          "output_type": "stream",
          "name": "stdout",
          "text": [
            "{'a': 1, 'b': 2, 'c': 3}\n"
          ]
        }
      ]
    },
    {
      "cell_type": "code",
      "source": [
        "id_list = [\"muzi\", \"frodo\", \"apeach\", \"neo\"]\n",
        "report = [\"muzi frodo\",\"apeach frodo\",\"frodo neo\",\"muzi neo\",\"apeach muzi\"]\n",
        "k = 2\n",
        "# result =[2,1,1,0]\n",
        "\n",
        "# ==========\n",
        "\n",
        "# id_list = [\"con\", \"ryan\"]\n",
        "# report = [\"ryan con\", \"ryan con\", \"ryan con\", \"ryan con\"]\n",
        "# k = 3\n",
        "# result = [0, 0]"
      ],
      "metadata": {
        "id": "6pfw-ZBh_cqL"
      },
      "execution_count": 13,
      "outputs": []
    },
    {
      "cell_type": "code",
      "source": [
        "ass = [1,1,1,2,3,4,4]\n",
        "aaa = list(set(ass))\n",
        "print(ass)\n",
        "print(aaa)"
      ],
      "metadata": {
        "colab": {
          "base_uri": "https://localhost:8080/"
        },
        "id": "Ykfrux-fEyNn",
        "outputId": "3f4eeb4a-1993-4809-ac53-953c3bf4756d"
      },
      "execution_count": 33,
      "outputs": [
        {
          "output_type": "stream",
          "name": "stdout",
          "text": [
            "[1, 1, 1, 2, 3, 4, 4]\n",
            "[1, 2, 3, 4]\n"
          ]
        }
      ]
    },
    {
      "cell_type": "code",
      "source": [
        "aa = [1,1,1,2,3,3]\n",
        "ss = aa.copy()\n",
        "print(ss)\n",
        "ss.remove(1)\n",
        "print(ss)\n",
        "print(aa)"
      ],
      "metadata": {
        "colab": {
          "base_uri": "https://localhost:8080/"
        },
        "id": "hWi0CNdCGiqJ",
        "outputId": "8b8d129f-f267-4aeb-ddae-592691f27aaa"
      },
      "execution_count": 40,
      "outputs": [
        {
          "output_type": "stream",
          "name": "stdout",
          "text": [
            "[1, 1, 1, 2, 3, 3]\n",
            "[1, 1, 2, 3, 3]\n",
            "[1, 1, 1, 2, 3, 3]\n"
          ]
        }
      ]
    },
    {
      "cell_type": "markdown",
      "source": [
        "### 제출한 답"
      ],
      "metadata": {
        "id": "oqzgVNzWTIp_"
      }
    },
    {
      "cell_type": "code",
      "source": [
        "def solution(id_list, report, k):\n",
        "    none_id1_list = id_list.copy()\n",
        "    # 중복 제거\n",
        "    report = sorted(list(set(report))) \n",
        "    # 신고자/피신고자 분리\n",
        "    id1_list = []\n",
        "    id2_list = []\n",
        "    # none_id1_list = [] # 신고한적 없는 id 모음\n",
        "    for id in report:\n",
        "        id1,id2 = id.split(' ')\n",
        "        id1_list.append(id1)\n",
        "        id2_list.append(id2)\n",
        "    set_id1_list = list(set(id1_list))\n",
        "    for id1 in set_id1_list:\n",
        "      if id1 in none_id1_list:\n",
        "        none_id1_list.remove(id1)\n",
        "    # print('none_id1_list :', none_id1_list)\n",
        "    # print('id1_list :',id1_list)\n",
        "    # print(id2_list)\n",
        "    \n",
        "    # 신고당한 횟수 카운팅 // len(id_list) 만큼 cnt_list\n",
        "    cnt_list = []\n",
        "    for id in id_list:\n",
        "        cnt = id2_list.count(id)\n",
        "        cnt_list.append(cnt)\n",
        "    # print('id_list: ',id_list)\n",
        "    # print(cnt_list)\n",
        "        \n",
        "    # 정지계정 리스트 생성\n",
        "    stopped_id_list = []\n",
        "    no_stopped_id_list = []\n",
        "    for idx, cnt in enumerate(cnt_list):\n",
        "        if cnt >= k:\n",
        "            #정지계정 id_list[idx]\n",
        "            stopped_id_list.append(id_list[idx])\n",
        "        else:\n",
        "            #일반계정\n",
        "            no_stopped_id_list.append(id_list[idx])    \n",
        "    # print(stopped_id_list)\n",
        "    # print(no_stopped_id_list)\n",
        "        \n",
        "    # id별 피신고자 딕셔너리 생성 \n",
        "    report_dict = dict()\n",
        "    for idx, id1 in enumerate(id1_list):\n",
        "        if id1 not in report_dict.keys():\n",
        "            report_dict[id1] = [] # id1이 키로 없으면 초기화\n",
        "        report_dict[id1].append(id2_list[idx])\n",
        "    \n",
        "    ############# TO DO 신고이력 없는 사람도 key로 추가해서 초기화하기\n",
        "    for n_id1 in none_id1_list:\n",
        "        if n_id1 not in report_dict.keys():\n",
        "            report_dict[n_id1] = []\n",
        "\n",
        "    # print(report)\n",
        "    # print('report_dict :',report_dict)\n",
        "\n",
        "    # 정지계정이 포함되면 정지된ID만 담기\n",
        "    stop_dict = dict()\n",
        "    for k, v in report_dict.items():\n",
        "        if k not in stop_dict.keys():\n",
        "                stop_dict[k] = [] # k가 키로 없으면 초기화\n",
        "        for st_id in stopped_id_list:\n",
        "            if st_id in v:\n",
        "                stop_dict[k].append(st_id)\n",
        "    # print(stopped_id_list)\n",
        "    # print('stop_dict: ', stop_dict)\n",
        "    \n",
        "    # 딕셔너리 value 개수 세기\n",
        "    answer = []\n",
        "    for id in id_list:\n",
        "        for k, v in stop_dict.items():\n",
        "            if id == k:\n",
        "                answer.append(len(v))\n",
        "                \n",
        "            \n",
        "    return answer\n",
        "\n",
        "id_list = [\"muzi\", \"frodo\", \"apeach\", \"neo\"]\n",
        "report = [\"muzi frodo\",\"apeach frodo\",\"frodo neo\",\"muzi neo\",\"apeach muzi\"]\n",
        "k = 2\n",
        "\n",
        "#id_list = [\"con\", \"ryan\"]\n",
        "#report = [\"ryan con\", \"ryan con\", \"ryan con\", \"ryan con\"]\n",
        "#k = 3\n",
        "print(solution(id_list, report, k)) # 2,1,1,0 ######## 0,0"
      ],
      "metadata": {
        "colab": {
          "base_uri": "https://localhost:8080/"
        },
        "id": "u9s0JhT9_XxE",
        "outputId": "3a9efca3-9126-4adc-c083-adc1b760defe"
      },
      "execution_count": 57,
      "outputs": [
        {
          "output_type": "stream",
          "name": "stdout",
          "text": [
            "id_list:  ['muzi', 'frodo', 'apeach', 'neo']\n",
            "report_dict : {'apeach': ['frodo', 'muzi'], 'frodo': ['neo'], 'muzi': ['frodo', 'neo'], 'neo': []}\n",
            "stop_dict:  {'apeach': ['frodo'], 'frodo': ['neo'], 'muzi': ['frodo', 'neo'], 'neo': []}\n",
            "[2, 1, 1, 0]\n"
          ]
        }
      ]
    },
    {
      "cell_type": "markdown",
      "source": [
        "### 다른 답안"
      ],
      "metadata": {
        "id": "49WhLpz7S-T4"
      }
    },
    {
      "cell_type": "code",
      "source": [
        "def solution(id_list, report, k):\n",
        "    answer = [0] * len(id_list)    \n",
        "    reports = {x : 0 for x in id_list}\n",
        "\n",
        "    for r in set(report):\n",
        "        reports[r.split()[1]] += 1\n",
        "\n",
        "    for r in set(report):\n",
        "        if reports[r.split()[1]] >= k:\n",
        "            answer[id_list.index(r.split()[0])] += 1\n",
        "\n",
        "    return answer\n",
        "\n",
        "id_list = [\"muzi\", \"frodo\", \"apeach\", \"neo\"]\n",
        "report = [\"muzi frodo\",\"apeach frodo\",\"frodo neo\",\"muzi neo\",\"apeach muzi\"]\n",
        "k = 2\n",
        "\n",
        "#id_list = [\"con\", \"ryan\"]\n",
        "#report = [\"ryan con\", \"ryan con\", \"ryan con\", \"ryan con\"]\n",
        "#k = 3\n",
        "print(solution(id_list, report, k))"
      ],
      "metadata": {
        "colab": {
          "base_uri": "https://localhost:8080/"
        },
        "id": "NXm-Q5YSMj1v",
        "outputId": "8af02a4c-1938-41ed-8224-21e5f68f9fc9"
      },
      "execution_count": 58,
      "outputs": [
        {
          "output_type": "stream",
          "name": "stdout",
          "text": [
            "[2, 1, 1, 0]\n"
          ]
        }
      ]
    },
    {
      "cell_type": "markdown",
      "source": [
        "##### 분석"
      ],
      "metadata": {
        "id": "jcIBBmC9TBPS"
      }
    },
    {
      "cell_type": "code",
      "source": [
        "def solution(id_list, report, k):\n",
        "  answer = [0] * len(id_list) ##### answer을 id_list와 동일한 크기로 초기화\n",
        "  reports = {x : 0 for x in id_list} # 딕셔너리 생성, 초기화까지 한번에\n",
        "  print('reports: ',reports)\n",
        "\n",
        "  # 신고당한 횟수 카운팅\n",
        "  for r in set(report):\n",
        "    reports[r.split()[1]] += 1 # 신고자 == r.split()[0], 피신고자 == r.split()[1]\n",
        "  print('reports: ',reports)\n",
        "\n",
        "  # k랑 비교해서 정지계정 업데이트\n",
        "  for r in set(report):\n",
        "    if reports[r.split()[1]] >= k: ### 피신고자 카운트가 k 이상인 경우\n",
        "      answer[id_list.index(r.split()[0])] += 1 ### 신고자 인덱스와 동일하게 answer의 카운트 업\n",
        "      # print(id_list.index(r.split()[0])) #0,1,0,2\n",
        "\n",
        "  return answer\n",
        "\n",
        "id_list = [\"muzi\", \"frodo\", \"apeach\", \"neo\"]\n",
        "report = [\"muzi frodo\",\"apeach frodo\",\"frodo neo\",\"muzi neo\",\"apeach muzi\"]\n",
        "k = 2\n",
        "print(solution(id_list, report, k))"
      ],
      "metadata": {
        "colab": {
          "base_uri": "https://localhost:8080/"
        },
        "id": "Pw-3JGNpNbFs",
        "outputId": "c081e21e-dc3b-49dd-a976-7cb930a10a09"
      },
      "execution_count": 78,
      "outputs": [
        {
          "output_type": "stream",
          "name": "stdout",
          "text": [
            "reports:  {'muzi': 0, 'frodo': 0, 'apeach': 0, 'neo': 0}\n",
            "reports:  {'muzi': 1, 'frodo': 2, 'apeach': 0, 'neo': 2}\n",
            "[2, 1, 1, 0]\n"
          ]
        }
      ]
    }
  ]
}
