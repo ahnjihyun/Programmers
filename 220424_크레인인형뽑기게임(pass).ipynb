{
  "nbformat": 4,
  "nbformat_minor": 0,
  "metadata": {
    "colab": {
      "name": "220424_크레인인형뽑기게임(pass).ipynb",
      "provenance": [],
      "authorship_tag": "ABX9TyNMwRdBCgXAJZoz5IH8LeHk",
      "include_colab_link": true
    },
    "kernelspec": {
      "name": "python3",
      "display_name": "Python 3"
    },
    "language_info": {
      "name": "python"
    }
  },
  "cells": [
    {
      "cell_type": "markdown",
      "metadata": {
        "id": "view-in-github",
        "colab_type": "text"
      },
      "source": [
        "<a href=\"https://colab.research.google.com/github/ahnjihyun/Programmers/blob/main/220424_%ED%81%AC%EB%A0%88%EC%9D%B8%EC%9D%B8%ED%98%95%EB%BD%91%EA%B8%B0%EA%B2%8C%EC%9E%84(pass).ipynb\" target=\"_parent\"><img src=\"https://colab.research.google.com/assets/colab-badge.svg\" alt=\"Open In Colab\"/></a>"
      ]
    },
    {
      "cell_type": "markdown",
      "source": [
        "### test zone\n"
      ],
      "metadata": {
        "id": "JqkMxI8Uulu3"
      }
    },
    {
      "cell_type": "code",
      "source": [
        "qq=[1,2,3,4,5]\n",
        "print(qq[-1:], qq[-2:-1])\n",
        "print(qq[-2:], qq[:-2])"
      ],
      "metadata": {
        "id": "XCRno3tPCiUA",
        "outputId": "b99dee82-3360-47a5-9845-b23c9a3a1816",
        "colab": {
          "base_uri": "https://localhost:8080/"
        }
      },
      "execution_count": 121,
      "outputs": [
        {
          "output_type": "stream",
          "name": "stdout",
          "text": [
            "[5] [4]\n",
            "[4, 5] [1, 2, 3]\n"
          ]
        }
      ]
    },
    {
      "cell_type": "code",
      "execution_count": 111,
      "metadata": {
        "colab": {
          "base_uri": "https://localhost:8080/"
        },
        "id": "a2ndI53_uNWD",
        "outputId": "6be1f246-19f1-4042-ab4a-e35d7621f924"
      },
      "outputs": [
        {
          "output_type": "stream",
          "name": "stdout",
          "text": [
            "(6, [4, 1, 2, 5, 4, 1, 5, 4, 3])\n"
          ]
        }
      ],
      "source": [
        "# 4/11개 통과\n",
        "def solution(board, moves):\n",
        "    answer = 0 # 터져서 사라진 인형 개수\n",
        "    bucket = [] # 바구니\n",
        "    for m in moves:\n",
        "        for b in range(len(board)): # board의 깊이(row개수)만큼 반복\n",
        "            if board[b][m-1] == 0: # m열의 위부터 내려가서, 값이 0 이면 다음 행으로\n",
        "                continue\n",
        "            else:\n",
        "                # 바구니 추가\n",
        "                bucket.append(board[b][m-1]) \n",
        "                # board 0으로 바꿈\n",
        "                board[b][m-1] = 0 \n",
        "\n",
        "                if len(bucket) > 1:\n",
        "                    # 바구니 끝에 연속된 인형 2개 터뜨림 and answer += 2\n",
        "                    if bucket[-1] == bucket[-2]: \n",
        "                        del bucket[len(bucket)-2:]\n",
        "                        answer += 2\n",
        "\n",
        "    return answer, bucket\n",
        "\n",
        "board = [[0,0,0,0,0],\n",
        "         [0,0,1,0,3],\n",
        "         [0,2,5,0,1],\n",
        "         [4,2,4,4,2],\n",
        "         [3,5,1,3,1]]\n",
        "moves = [1,5,3,5,1,2,1,4]\n",
        "print(solution(board, moves))\n",
        "# 4 2 4 => 최종 버킷"
      ]
    },
    {
      "cell_type": "code",
      "source": [
        "bucket = [4,5,9,1,1]\n",
        "ans = 0\n",
        "for i in range(len(bucket)-1,0,-1): \n",
        "  #print(i-1)\n",
        "  if bucket[i] == bucket[i-1]: \n",
        "    #print(bucket[i], bucket[i-1]) # 1,1\n",
        "    ans += 2\n",
        "    #del bucket[len(bucket)-2:]\n",
        "print(ans)\n",
        "print(bucket)"
      ],
      "metadata": {
        "colab": {
          "base_uri": "https://localhost:8080/"
        },
        "id": "4bpbqakj2up3",
        "outputId": "fc9638e1-169d-4754-d783-65ade9a92c69"
      },
      "execution_count": 109,
      "outputs": [
        {
          "output_type": "stream",
          "name": "stdout",
          "text": [
            "2\n",
            "[4, 5, 9, 1, 1]\n"
          ]
        }
      ]
    },
    {
      "cell_type": "code",
      "source": [
        "a = [1,2,3,4,5]\n",
        "del a[len(a)-2:] # == del a[3:]\n",
        "a"
      ],
      "metadata": {
        "id": "td3DAxpiA_aM",
        "outputId": "26b324ed-a674-46e2-8bc3-7afcf3787ba5",
        "colab": {
          "base_uri": "https://localhost:8080/"
        }
      },
      "execution_count": 112,
      "outputs": [
        {
          "output_type": "execute_result",
          "data": {
            "text/plain": [
              "[1, 2, 3]"
            ]
          },
          "metadata": {},
          "execution_count": 112
        }
      ]
    },
    {
      "cell_type": "code",
      "source": [
        "a = [1,2,3,4,5]\n",
        "#a[-1] # 5\n",
        "del a[-1]\n",
        "del a[-1]\n",
        "a"
      ],
      "metadata": {
        "colab": {
          "base_uri": "https://localhost:8080/"
        },
        "id": "ZEWlTgfzxJsd",
        "outputId": "eee4cfc2-825d-4269-c331-278d8b3e451b"
      },
      "execution_count": 62,
      "outputs": [
        {
          "output_type": "execute_result",
          "data": {
            "text/plain": [
              "[1, 2, 3]"
            ]
          },
          "metadata": {},
          "execution_count": 62
        }
      ]
    },
    {
      "cell_type": "code",
      "source": [
        "for i in range(3,0,-1):\n",
        "  print(i)"
      ],
      "metadata": {
        "colab": {
          "base_uri": "https://localhost:8080/"
        },
        "id": "eDbDZkKStpzn",
        "outputId": "6cb0b866-4593-4007-d920-a4c6a1456b48"
      },
      "execution_count": 53,
      "outputs": [
        {
          "output_type": "stream",
          "name": "stdout",
          "text": [
            "3\n",
            "2\n",
            "1\n"
          ]
        }
      ]
    },
    {
      "cell_type": "code",
      "source": [
        "a = [1,2,3,4,5]\n",
        "b = a[4:3:-1] #시작인덱스, 끝인덱스, 역순 \n",
        "c = a[3::-1]\n",
        "x = a[3:2:-1]\n",
        "print(b)\n",
        "print(c)\n",
        "print(x)\n",
        "\n",
        "y = [7,8]\n",
        "z = y[1:0:-1]\n",
        "zz = y[0:-1:-1] ### 이거 안됨 => 리스트 요소가 2개인경우 케이스 분리할것\n",
        "print(z)\n",
        "print(zz)"
      ],
      "metadata": {
        "colab": {
          "base_uri": "https://localhost:8080/"
        },
        "id": "_jP-hCCvsDVl",
        "outputId": "9e09d51d-2c41-4062-de5c-1cd58a425364"
      },
      "execution_count": 48,
      "outputs": [
        {
          "output_type": "stream",
          "name": "stdout",
          "text": [
            "[5]\n",
            "[4, 3, 2, 1]\n",
            "[4]\n",
            "[8]\n",
            "[]\n"
          ]
        }
      ]
    },
    {
      "cell_type": "code",
      "source": [
        "board = [[0,0,0,0,0],\n",
        "         [0,0,1,0,3],\n",
        "         [0,2,5,0,1],\n",
        "         [4,2,4,4,2],\n",
        "         [3,5,1,3,1]]\n",
        "print(board[3][0])\n",
        "print(len(board))\n",
        "\n",
        "bucket = []\n",
        "\n",
        "bucket.append(board[3][0])\n",
        "print(bucket)\n",
        "\n",
        "board[3][0] = 0\n",
        "print(board)"
      ],
      "metadata": {
        "colab": {
          "base_uri": "https://localhost:8080/"
        },
        "id": "Sa_mQYMyf1qp",
        "outputId": "79d7aaeb-ed6d-4e2e-a387-97ebb27719a1"
      },
      "execution_count": 22,
      "outputs": [
        {
          "output_type": "stream",
          "name": "stdout",
          "text": [
            "4\n",
            "5\n",
            "[4]\n",
            "[[0, 0, 0, 0, 0], [0, 0, 1, 0, 3], [0, 2, 5, 0, 1], [0, 2, 4, 4, 2], [3, 5, 1, 3, 1]]\n"
          ]
        }
      ]
    },
    {
      "cell_type": "markdown",
      "source": [
        "### 제출 풀이"
      ],
      "metadata": {
        "id": "9LxjeCKUIPqG"
      }
    },
    {
      "cell_type": "code",
      "source": [
        "def solution(board, moves):\n",
        "    answer = 0 # 터져서 사라진 인형 개수\n",
        "    bucket = [] # 바구니\n",
        "    for move in moves:\n",
        "        for bd in range(len(board)):\n",
        "            if board[bd][move-1] != 0:\n",
        "                bucket.append(board[bd][move-1])\n",
        "                board[bd][move-1] = 0\n",
        "                if len(bucket) > 1:\n",
        "                    if bucket[-1] == bucket[-2]: \n",
        "                        answer += 2\n",
        "                        bucket = bucket[:-2]\n",
        "                break ###### 위 과정 다 처리했으면 다음 move 받기 (break 안하면 bd+1(아래 행)로 넘어감)\n",
        "    return answer\n",
        "\n",
        "board = [[0,0,0,0,0],\n",
        "         [0,0,1,0,3],\n",
        "         [0,2,5,0,1],\n",
        "         [4,2,4,4,2],\n",
        "         [3,5,1,3,1]]\n",
        "moves = [1,5,3,5,1,2,1,4]\n",
        "print(solution(board, moves))"
      ],
      "metadata": {
        "id": "XdCp8UtGCNqM",
        "outputId": "ab023677-53d5-46fb-c3b1-a870c59b3794",
        "colab": {
          "base_uri": "https://localhost:8080/"
        }
      },
      "execution_count": 133,
      "outputs": [
        {
          "output_type": "stream",
          "name": "stdout",
          "text": [
            "4\n"
          ]
        }
      ]
    },
    {
      "cell_type": "markdown",
      "source": [
        "### 다른 풀이"
      ],
      "metadata": {
        "id": "Fas-ikLbJTqC"
      }
    },
    {
      "cell_type": "code",
      "source": [
        "def solution(board, moves):\n",
        "    stacklist = []\n",
        "    answer = 0\n",
        "\n",
        "    for i in moves:\n",
        "        for j in range(len(board)):\n",
        "            if board[j][i-1] != 0:\n",
        "                stacklist.append(board[j][i-1])\n",
        "                board[j][i-1] = 0\n",
        "\n",
        "                if len(stacklist) > 1:\n",
        "                    if stacklist[-1] == stacklist[-2]:\n",
        "                        stacklist.pop(-1) ##\n",
        "                        stacklist.pop(-1) ##\n",
        "                        answer += 2     \n",
        "                break\n",
        "\n",
        "    return answer\n",
        "\n",
        "board = [[0,0,0,0,0],\n",
        "         [0,0,1,0,3],\n",
        "         [0,2,5,0,1],\n",
        "         [4,2,4,4,2],\n",
        "         [3,5,1,3,1]]\n",
        "moves = [1,5,3,5,1,2,1,4]\n",
        "print(solution(board, moves))"
      ],
      "metadata": {
        "id": "U-AzekjGJTGk",
        "outputId": "7b3b1dad-4f89-4a9f-888f-7c04a6639828",
        "colab": {
          "base_uri": "https://localhost:8080/"
        }
      },
      "execution_count": 131,
      "outputs": [
        {
          "output_type": "stream",
          "name": "stdout",
          "text": [
            "4\n"
          ]
        }
      ]
    },
    {
      "cell_type": "code",
      "source": [
        "def solution(board, moves):\n",
        "    answer = 0 \n",
        "    bucket = [] \n",
        "    for move in moves:\n",
        "        for bd in range(len(board)):\n",
        "            if board[bd][move-1] > 0: ####### 0이 아닌경우 (X) -> \"0보다 큰 경우\" 로 발상의 전환 (어차피 인형은 0보다 큰 자연수값이니까)\n",
        "                bucket.append(board[bd][move-1])\n",
        "                board[bd][move-1] = 0\n",
        "                if bucket[-1:] == bucket[-2:-1]: ##### 슬라이싱\n",
        "                    answer += 2\n",
        "                    bucket = bucket[:-2] ###### 슬라이싱\n",
        "                break ########## 위 과정 다 처리했으면 다음 move 받기 (break 안하면 bd+1(아래 행)로 넘어감)\n",
        "    return answer\n",
        "\n",
        "board = [[0,0,0,0,0],\n",
        "         [0,0,1,0,3],\n",
        "         [0,2,5,0,1],\n",
        "         [4,2,4,4,2],\n",
        "         [3,5,1,3,1]]\n",
        "moves = [1,5,3,5,1,2,1,4]\n",
        "print(solution(board, moves))"
      ],
      "metadata": {
        "id": "TkOW2EVqJm9y",
        "outputId": "1485e12c-9665-4198-c2b1-898d857973b5",
        "colab": {
          "base_uri": "https://localhost:8080/"
        }
      },
      "execution_count": 132,
      "outputs": [
        {
          "output_type": "stream",
          "name": "stdout",
          "text": [
            "4\n"
          ]
        }
      ]
    }
  ]
}