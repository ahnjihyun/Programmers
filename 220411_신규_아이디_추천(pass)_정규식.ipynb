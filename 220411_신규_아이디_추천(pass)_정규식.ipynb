{
  "nbformat": 4,
  "nbformat_minor": 0,
  "metadata": {
    "colab": {
      "name": "220411_신규 아이디 추천(pass)_정규식.ipynb",
      "private_outputs": true,
      "provenance": [],
      "authorship_tag": "ABX9TyP7qZGFf4QaGOLSZAPdU5/A",
      "include_colab_link": true
    },
    "kernelspec": {
      "name": "python3",
      "display_name": "Python 3"
    },
    "language_info": {
      "name": "python"
    }
  },
  "cells": [
    {
      "cell_type": "markdown",
      "metadata": {
        "id": "view-in-github",
        "colab_type": "text"
      },
      "source": [
        "<a href=\"https://colab.research.google.com/github/ahnjihyun/Programmers/blob/main/220411_%EC%8B%A0%EA%B7%9C_%EC%95%84%EC%9D%B4%EB%94%94_%EC%B6%94%EC%B2%9C(pass)_%EC%A0%95%EA%B7%9C%EC%8B%9D.ipynb\" target=\"_parent\"><img src=\"https://colab.research.google.com/assets/colab-badge.svg\" alt=\"Open In Colab\"/></a>"
      ]
    },
    {
      "cell_type": "markdown",
      "source": [
        "### test code\n"
      ],
      "metadata": {
        "id": "WTNfeDFq2u8j"
      }
    },
    {
      "cell_type": "code",
      "execution_count": null,
      "metadata": {
        "id": "3DrI2rp8S49K"
      },
      "outputs": [],
      "source": [
        "new_id = '......ASdf_11-@@#$%$%$#%#$^&^*&^(&*)...'\n",
        "id1 = new_id.lower()\n",
        "print(id1)\n",
        "\n",
        "\n",
        "import re\n",
        "\n",
        "id2 = re.sub('[^a-z0-9-_.]','', id1)\n",
        "print(id2)\n",
        "\n",
        "id3 = re.sub('[.]{2,}','.', id2)\n",
        "print(id3)\n",
        "\n",
        "id4_1 = re.sub('[.]$','', id3)\n",
        "id4_2 = re.sub('^[.]','', id4_1)\n",
        "print(len(id4_2), id4_2)\n",
        "\n",
        "id5 = id4_2.replace('','a')\n",
        "# id5 = re.sub('','a', id4_2)\n",
        "print(id5)\n"
      ]
    },
    {
      "cell_type": "code",
      "source": [
        "aa = ''\n",
        "ss = re.sub('','a', aa)\n",
        "print(ss)"
      ],
      "metadata": {
        "id": "FyhHYtiCgNSE"
      },
      "execution_count": null,
      "outputs": []
    },
    {
      "cell_type": "code",
      "source": [
        "a = 'aaaaasssssdddddfffffggggg'\n",
        "if len(a) >= 16:\n",
        "  s = a[:15]\n",
        "print(s)"
      ],
      "metadata": {
        "id": "RO2BWH-gs_-s"
      },
      "execution_count": null,
      "outputs": []
    },
    {
      "cell_type": "code",
      "source": [
        "text = 'qwerty'\n",
        "post_str = text[-1:]\n",
        "print(post_str)"
      ],
      "metadata": {
        "id": "yX_QsDCSGIQk"
      },
      "execution_count": null,
      "outputs": []
    },
    {
      "cell_type": "markdown",
      "source": [
        "### 내 풀이 \n",
        "\n",
        "ㅠㅠㅠㅠㅠㅠ 휴 정규식 어렵당"
      ],
      "metadata": {
        "id": "tqLur4jX2xMk"
      }
    },
    {
      "cell_type": "code",
      "source": [
        "import re\n",
        "\n",
        "def solution(new_id):\n",
        "  ans = ''\n",
        "\n",
        "  id1 = new_id.lower()\n",
        "  id2 = re.sub('[^a-z0-9-_.]','', id1) \n",
        "  # print('id2: ',id2)\n",
        "\n",
        "  id3 = re.sub('[.]{2,}','.', id2)\n",
        "  # print('id3: ',id3)\n",
        "  \n",
        "  id4_1 = re.sub('^[.]','',id3)\n",
        "  # print('id4_1: ',id4_1)\n",
        "  id4_2 = re.sub('[.]$','',id4_1)\n",
        "  # print('id4_2: ',id4_2)\n",
        "\n",
        "  # id5 = id4_2.replace('','a')\n",
        "  # id5 = re.sub('[ ]','a',id4_2)\n",
        "  if len(id4_2) == 0:\n",
        "    id5 = 'a'\n",
        "  else:\n",
        "    id5 = id4_2\n",
        "  # print('id5: \\\"',id5,'\\\"')\n",
        "\n",
        "  if len(id5) >= 16:\n",
        "    id6_1 = id5[:15]\n",
        "    ans = re.sub('[.]$','', id6_1)\n",
        "    # print('id6_2: ',id6_2)\n",
        "  elif len(id5) == 2:\n",
        "    post_str = id5[-1:]\n",
        "    ans = str(id5) + post_str\n",
        "    # print('ans: ', ans)\n",
        "  elif len(id5) == 1:\n",
        "    ans = str(id5) * 3\n",
        "  else:\n",
        "    ans = id5\n",
        "\n",
        "  return ans\n",
        "\n",
        "#new_id = \"...!@BaT#*..y.abcdefghijklm\" # \"bat.y.abcdefghi\"\n",
        "#new_id = \"z-+.^.\"\n",
        "#new_id = \"abcdefghijklmn.p\"\n",
        "#new_id = \"123_.def\" # \"123_.def\"\n",
        "\n",
        "new_id = \"=.=\" # \"aaa\"\n",
        "\n",
        "print(solution(new_id)) "
      ],
      "metadata": {
        "id": "F-o3yJyqHuuN"
      },
      "execution_count": null,
      "outputs": []
    },
    {
      "cell_type": "markdown",
      "source": [
        "### 다른 풀이 (정규표현식 사용)"
      ],
      "metadata": {
        "id": "PjzS2Lac25FP"
      }
    },
    {
      "cell_type": "code",
      "source": [
        "import re \n",
        "\n",
        "def solution(new_id):\n",
        "  st = new_id\n",
        "  st = st.lower() \n",
        "  st = re.sub('[^a-z0-9\\-_.]', '', st) ### \\ 이거 뭐징\n",
        "  st = re.sub('\\.+', '.', st) ###\n",
        "  st = re.sub('^[.]|[.]$', '', st) ###\n",
        "  st = 'a' if len(st) == 0 else st[:15] ###\n",
        "  st = re.sub('^[.]|[.]$', '', st)\n",
        "  st = st if len(st) > 2 else st + \"\".join([st[-1] for i in range(3-len(st))]) ###\n",
        "  return st\n",
        "\n",
        "new_id = \"=.=\" # \"aaa\"\n",
        "print(solution(new_id)) "
      ],
      "metadata": {
        "id": "H140cPwd27KI"
      },
      "execution_count": null,
      "outputs": []
    },
    {
      "cell_type": "code",
      "source": [
        "import re \n",
        "\n",
        "def solution(new_id):\n",
        "  st = new_id\n",
        "\n",
        "  # 1. 소문자 치환\n",
        "  st = st.lower() \n",
        "  \n",
        "  # 2. 알파벳 소문자, 숫자, 빼기(-), 밑줄(_), 마침표(.)를 제외한 모든 문자를 제거\n",
        "  st = re.sub('[^a-z0-9\\-_.]', '', st) ### \\ 이거 뭐징\n",
        "\n",
        "  # 3. 마침표(.)가 2번 이상 연속된 부분을 하나의 마침표(.)로 치환\n",
        "  st = re.sub('\\.+', '.', st)\n",
        "\n",
        "  # 4. 마침표(.)가 처음이나 끝에 위치한다면 제거\n",
        "  st = re.sub('^[.]|[.]$', '', st)\n",
        "\n",
        "  # 5. 빈 문자열이라면, new_id에 \"a\"를 대입\n",
        "  # 6. 길이가 16자 이상이면, new_id의 첫 15개의 문자를 제외한 나머지 문자들을 모두 제거\n",
        "  #    만약 제거 후 마침표(.)가 new_id의 끝에 위치한다면 끝에 위치한 마침표(.) 문자를 제거\n",
        "  # 7. 2자 이하라면, 마지막 문자를 new_id의 길이가 3이 될 때까지 반복해서 끝에 붙임\n",
        "  st = 'a' if len(st) == 0 else st[:15]\n",
        "  st = re.sub('^[.]|[.]$', '', st)\n",
        "\n",
        "  # 7단계 해설 - 1. 문자열 길이가 2 초과면 그대로 반환. \n",
        "  # 아니라면(길이가 2이하) 원하는 길이(3)를 맞추기 위해 \n",
        "  # 3에서 본래길이(len(st))를 빼준 개수만큼 for문을 돌리면서 맨마지막 글자를 리스트로 넣은 후 \n",
        "  # join으로 합쳐 st에 더해줌.\n",
        "  st = st if len(st) > 2 else st + \"\".join([st[-1] for i in range(3-len(st))])\n",
        "\n",
        "  # 바로 윗줄이랑 이 아래 주석 코드는 결과가 다름\n",
        "  # if len(st) > 2:\n",
        "    # st = st\n",
        "  # else:\n",
        "    # st + ''.join([st[-1] for i in range(3-len(st))]) \n",
        "\n",
        "  return st\n",
        "\n",
        "\n",
        "#new_id = \"123_.def\" # \"123_.def\"\n",
        "new_id = \"=.=\" # \"aaa\"\n",
        "print(solution(new_id)) "
      ],
      "metadata": {
        "id": "11FllP8ai2__"
      },
      "execution_count": null,
      "outputs": []
    },
    {
      "cell_type": "markdown",
      "source": [
        "### 다른 풀이 (정규표현식 사용X)"
      ],
      "metadata": {
        "id": "375FpjlM8F9j"
      }
    },
    {
      "cell_type": "code",
      "source": [
        "def solution(new_id):\n",
        "    answer = ''\n",
        "    # 1\n",
        "    new_id = new_id.lower()\n",
        "    # 2\n",
        "    for c in new_id:\n",
        "        if c.isalpha() or c.isdigit() or c in ['-', '_', '.']:\n",
        "            answer += c\n",
        "    # 3 \n",
        "    while '..' in answer: # while 쓴게 대박...\n",
        "        answer = answer.replace('..', '.')\n",
        "    # 4\n",
        "    if answer[0] == '.':\n",
        "        answer = answer[1:] if len(answer) > 1 else '.'\n",
        "    if answer[-1] == '.':\n",
        "        answer = answer[:-1]\n",
        "    # 5\n",
        "    if answer == '':\n",
        "        answer = 'a'\n",
        "    # 6\n",
        "    if len(answer) > 15:\n",
        "        answer = answer[:15]\n",
        "        if answer[-1] == '.':\n",
        "            answer = answer[:-1]\n",
        "    # 7\n",
        "    while len(answer) < 3:\n",
        "        answer += answer[-1]\n",
        "    return answer"
      ],
      "metadata": {
        "id": "LGvC9g9E8EhU"
      },
      "execution_count": null,
      "outputs": []
    }
  ]
}