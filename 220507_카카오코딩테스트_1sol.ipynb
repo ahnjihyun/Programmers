{
  "nbformat": 4,
  "nbformat_minor": 0,
  "metadata": {
    "colab": {
      "name": "220507(토)14~19시_카카오코딩테스트.ipynb",
      "provenance": [],
      "collapsed_sections": [
        "olggX2NExiGK"
      ],
      "authorship_tag": "ABX9TyNi02kUcjZI4kEN/837g75U",
      "include_colab_link": true
    },
    "kernelspec": {
      "name": "python3",
      "display_name": "Python 3"
    },
    "language_info": {
      "name": "python"
    }
  },
  "cells": [
    {
      "cell_type": "markdown",
      "metadata": {
        "id": "view-in-github",
        "colab_type": "text"
      },
      "source": [
        "<a href=\"https://colab.research.google.com/github/ahnjihyun/Programmers/blob/main/220507_%EC%B9%B4%EC%B9%B4%EC%98%A4%EC%BD%94%EB%94%A9%ED%85%8C%EC%8A%A4%ED%8A%B8_1sol.ipynb\" target=\"_parent\"><img src=\"https://colab.research.google.com/assets/colab-badge.svg\" alt=\"Open In Colab\"/></a>"
      ]
    },
    {
      "cell_type": "markdown",
      "source": [
        "# 1번 (solve)"
      ],
      "metadata": {
        "id": "8ePItzrj5lWn"
      }
    },
    {
      "cell_type": "code",
      "source": [
        "mbti = {'R':0, 'T':0,'C':0, 'F':0,'J':0, 'M':0,'A':0, 'N':0 }\n",
        "\n",
        "def solution(survey, choices):\n",
        "    answer = []\n",
        "    for i in range(len(choices)):\n",
        "        # 점수가 3이하인 경우, 앞자리 캐릭터 +3~1\n",
        "        if choices[i] == 1:\n",
        "            mbti[survey[i][0]] +=3\n",
        "        elif choices[i] == 2:\n",
        "            mbti[survey[i][0]] +=2\n",
        "        elif choices[i] == 3:\n",
        "            mbti[survey[i][0]] +=1\n",
        "        elif choices[i] == 4:\n",
        "            mbti[survey[i][0]] += 0\n",
        "        elif choices[i] == 5:\n",
        "            mbti[survey[i][1]] +=1\n",
        "        elif choices[i] == 6:\n",
        "            mbti[survey[i][1]] +=2\n",
        "        elif choices[i] == 7:\n",
        "            mbti[survey[i][1]] +=3\n",
        "\n",
        "    if mbti['R'] >= mbti[\"T\"]:\n",
        "        answer.append('R')\n",
        "    else:\n",
        "        answer.append('T')\n",
        "\n",
        "    if mbti['C'] >= mbti[\"F\"]:\n",
        "        answer.append('C')\n",
        "    else:\n",
        "        answer.append('F')\n",
        "\n",
        "    if mbti['J'] >= mbti[\"M\"]:\n",
        "        answer.append('J')\n",
        "    else:\n",
        "        answer.append('M')\n",
        "\n",
        "    if mbti['A'] >= mbti[\"N\"]:\n",
        "        answer.append('A')\n",
        "    else:\n",
        "        answer.append('N')\n",
        "    \n",
        "    return ''.join(answer) # mbti #"
      ],
      "metadata": {
        "id": "zOi20VA35gzF"
      },
      "execution_count": null,
      "outputs": []
    },
    {
      "cell_type": "markdown",
      "source": [
        "# 2번 "
      ],
      "metadata": {
        "id": "xwraMjzk5p8v"
      }
    },
    {
      "cell_type": "markdown",
      "source": [
        "문제 설명\n",
        "길이가 같은 두 개의 큐가 주어집니다. 하나의 큐를 골라 원소를 추출(pop)하고, 추출된 원소를 다른 큐에 집어넣는(insert) 작업을 통해 각 큐의 원소 합이 같도록 만들려고 합니다. 이때 필요한 작업의 최소 횟수를 구하고자 합니다. 한 번의 pop과 한 번의 insert를 합쳐서 작업을 1회 수행한 것으로 간주합니다.\n",
        "\n",
        "큐는 먼저 집어넣은 원소가 먼저 나오는 구조입니다. 이 문제에서는 큐를 배열로 표현하며, 원소가 배열 앞쪽에 있을수록 먼저 집어넣은 원소임을 의미합니다. 즉, pop을 하면 배열의 첫 번째 원소가 추출되며, insert를 하면 배열의 끝에 원소가 추가됩니다. 예를 들어 큐 [1, 2, 3, 4]가 주어졌을 때, pop을 하면 맨 앞에 있는 원소 1이 추출되어 [2, 3, 4]가 되며, 이어서 5를 insert하면 [2, 3, 4, 5]가 됩니다.\n",
        "\n",
        "다음은 두 큐를 나타내는 예시입니다.\n",
        "\n",
        "queue1 = [3, 2, 7, 2]\n",
        "queue2 = [4, 6, 5, 1]\n",
        "두 큐에 담긴 모든 원소의 합은 30입니다. 따라서, 각 큐의 합을 15로 만들어야 합니다. 예를 들어, 다음과 같이 2가지 방법이 있습니다.\n",
        "\n",
        "1. queue2의 4, 6, 5를 순서대로 추출하여 queue1에 추가한 뒤, queue1의 3, 2, 7, 2를 순서대로 추출하여 queue2에 추가합니다. 그 결과 queue1은 [4, 6, 5], queue2는 [1, 3, 2, 7, 2]가 되며, 각 큐의 원소 합은 15로 같습니다. 이 방법은 작업을 7번 수행합니다.\n",
        "\n",
        "2. queue1에서 3을 추출하여 queue2에 추가합니다. 그리고 queue2에서 4를 추출하여 queue1에 추가합니다. 그 결과 queue1은 [2, 7, 2, 4], queue2는 [6, 5, 1, 3]가 되며, 각 큐의 원소 합은 15로 같습니다. 이 방법은 작업을 2번만 수행하며, 이보다 적은 횟수로 목표를 달성할 수 없습니다.\n",
        "따라서 각 큐의 원소 합을 같게 만들기 위해 필요한 작업의 최소 횟수는 2입니다.\n",
        "\n",
        "길이가 같은 두 개의 큐를 나타내는 정수 배열 queue1, queue2가 매개변수로 주어집니다. 각 큐의 원소 합을 같게 만들기 위해 필요한 작업의 최소 횟수를 return 하도록 solution 함수를 완성해주세요. 단, 어떤 방법으로도 각 큐의 원소 합을 같게 만들 수 없는 경우, -1을 return 해주세요.\n",
        "\n",
        "---\n"
      ],
      "metadata": {
        "id": "k_Frdn8y7t7S"
      }
    },
    {
      "cell_type": "markdown",
      "source": [
        "입출력 예 #2\n",
        "\n",
        "두 큐에 담긴 모든 원소의 합은 20입니다. 따라서, 각 큐의 합을 10으로 만들어야 합니다. queue2에서 1, 10을 순서대로 추출하여 queue1에 추가하고, queue1에서 1, 2, 1, 2와 1(queue2으로부터 받은 원소)을 순서대로 추출하여 queue2에 추가합니다. 그 결과 queue1은 [10], queue2는 [1, 2, 1, 2, 1, 2, 1]가 되며, 각 큐의 원소 합은 10으로 같습니다. 이때 작업 횟수는 7회이며, 이보다 적은 횟수로 목표를 달성하는 방법은 없습니다. 따라서 7를 return 합니다.\n",
        "\n",
        "---\n",
        "\n",
        "입출력 예 #3\n",
        "\n",
        "어떤 방법을 쓰더라도 각 큐의 원소 합을 같게 만들 수 없습니다. 따라서 -1을 return 합니다."
      ],
      "metadata": {
        "id": "-AYJiL_l70W1"
      }
    },
    {
      "cell_type": "code",
      "source": [
        "def solution(queue1, queue2):\n",
        "    #answer = -2\n",
        "    des = (sum(queue1)+sum(queue2))/2\n",
        "    min_ = abs(sum(queue1)-sum(queue2))\n",
        "    cnt1=cnt2=0\n",
        "    # queue1가 기준일때 > ???\n",
        "    for i, q in enumerate(queue1):\n",
        "        if sum(queue1) > des:\n",
        "            queue2.append(queue1[i])\n",
        "            del queue1[i]\n",
        "        else:\n",
        "            queue1.append(queue2[i])\n",
        "            del queue2[i]\n",
        "\n",
        "    if cnt1 < cnt2:\n",
        "        return cnt1\n",
        "    else:\n",
        "        return  cnt2\n",
        "\n",
        "queue1 = [3, 2, 7, 2]\n",
        "queue2 = [4, 6, 5, 1]\n",
        "print(solution(queue1,queue2))\n",
        "# queue1        queue2          result\n",
        "#[3, 2, 7, 2]\t[4, 6, 5, 1]\t2\n",
        "#[1, 2, 1, 2]\t[1, 10, 1, 2]\t7\n",
        "#[1, 1]\t[1, 5]\t-1"
      ],
      "metadata": {
        "colab": {
          "base_uri": "https://localhost:8080/"
        },
        "id": "g3QAvsOI5reM",
        "outputId": "a7a9b349-cfa0-47c4-d318-878e596715c6"
      },
      "execution_count": 101,
      "outputs": [
        {
          "output_type": "stream",
          "name": "stdout",
          "text": [
            "0\n"
          ]
        }
      ]
    },
    {
      "cell_type": "markdown",
      "source": [
        "# 5번 "
      ],
      "metadata": {
        "id": "HFhGJg7C5eSM"
      }
    },
    {
      "cell_type": "code",
      "execution_count": 12,
      "metadata": {
        "colab": {
          "base_uri": "https://localhost:8080/",
          "height": 381
        },
        "id": "2yEPVqDkJoid",
        "outputId": "262d94c8-b4b9-45fe-f07d-f8bfeb237abd"
      },
      "outputs": [
        {
          "output_type": "error",
          "ename": "UnboundLocalError",
          "evalue": "ignored",
          "traceback": [
            "\u001b[0;31m---------------------------------------------------------------------------\u001b[0m",
            "\u001b[0;31mUnboundLocalError\u001b[0m                         Traceback (most recent call last)",
            "\u001b[0;32m<ipython-input-12-6015b2d8768b>\u001b[0m in \u001b[0;36m<module>\u001b[0;34m()\u001b[0m\n\u001b[1;32m     23\u001b[0m       [7, 8, 9]]\n\u001b[1;32m     24\u001b[0m \u001b[0moperations\u001b[0m \u001b[0;34m=\u001b[0m\u001b[0;34m[\u001b[0m\u001b[0;34m\"Rotate\"\u001b[0m\u001b[0;34m,\u001b[0m \u001b[0;34m\"ShiftRow\"\u001b[0m\u001b[0;34m]\u001b[0m\u001b[0;34m\u001b[0m\u001b[0;34m\u001b[0m\u001b[0m\n\u001b[0;32m---> 25\u001b[0;31m \u001b[0mprint\u001b[0m\u001b[0;34m(\u001b[0m\u001b[0msolution\u001b[0m\u001b[0;34m(\u001b[0m\u001b[0mrc\u001b[0m\u001b[0;34m,\u001b[0m \u001b[0moperations\u001b[0m\u001b[0;34m)\u001b[0m\u001b[0;34m)\u001b[0m\u001b[0;34m\u001b[0m\u001b[0;34m\u001b[0m\u001b[0m\n\u001b[0m\u001b[1;32m     26\u001b[0m \u001b[0;31m#[[8, 9, 6],\u001b[0m\u001b[0;34m\u001b[0m\u001b[0;34m\u001b[0m\u001b[0;34m\u001b[0m\u001b[0m\n\u001b[1;32m     27\u001b[0m \u001b[0;31m# [4, 1, 2],\u001b[0m\u001b[0;34m\u001b[0m\u001b[0;34m\u001b[0m\u001b[0;34m\u001b[0m\u001b[0m\n",
            "\u001b[0;32m<ipython-input-12-6015b2d8768b>\u001b[0m in \u001b[0;36msolution\u001b[0;34m(rc, operations)\u001b[0m\n\u001b[1;32m     12\u001b[0m         \u001b[0;32melif\u001b[0m \u001b[0mstat\u001b[0m \u001b[0;34m==\u001b[0m \u001b[0;34m'Rotate'\u001b[0m\u001b[0;34m:\u001b[0m\u001b[0;34m\u001b[0m\u001b[0;34m\u001b[0m\u001b[0m\n\u001b[1;32m     13\u001b[0m             \u001b[0;32mfor\u001b[0m \u001b[0mi\u001b[0m \u001b[0;32min\u001b[0m \u001b[0mrange\u001b[0m\u001b[0;34m(\u001b[0m\u001b[0mmx\u001b[0m\u001b[0;34m)\u001b[0m\u001b[0;34m:\u001b[0m\u001b[0;34m\u001b[0m\u001b[0;34m\u001b[0m\u001b[0m\n\u001b[0;32m---> 14\u001b[0;31m                 \u001b[0manswer\u001b[0m\u001b[0;34m[\u001b[0m\u001b[0;36m0\u001b[0m\u001b[0;34m]\u001b[0m\u001b[0;34m[\u001b[0m\u001b[0mi\u001b[0m\u001b[0;34m]\u001b[0m \u001b[0;34m=\u001b[0m \u001b[0manswer\u001b[0m\u001b[0;34m[\u001b[0m\u001b[0;36m0\u001b[0m\u001b[0;34m]\u001b[0m\u001b[0;34m[\u001b[0m\u001b[0mi\u001b[0m\u001b[0;34m+\u001b[0m\u001b[0;36m1\u001b[0m\u001b[0;34m]\u001b[0m\u001b[0;34m\u001b[0m\u001b[0;34m\u001b[0m\u001b[0m\n\u001b[0m\u001b[1;32m     15\u001b[0m                 \u001b[0manswer\u001b[0m\u001b[0;34m[\u001b[0m\u001b[0mi\u001b[0m\u001b[0;34m]\u001b[0m\u001b[0;34m[\u001b[0m\u001b[0mmx\u001b[0m\u001b[0;34m]\u001b[0m \u001b[0;34m=\u001b[0m \u001b[0manswer\u001b[0m\u001b[0;34m[\u001b[0m\u001b[0mi\u001b[0m\u001b[0;34m+\u001b[0m\u001b[0;36m1\u001b[0m\u001b[0;34m]\u001b[0m\u001b[0;34m[\u001b[0m\u001b[0mmx\u001b[0m\u001b[0;34m]\u001b[0m\u001b[0;34m\u001b[0m\u001b[0;34m\u001b[0m\u001b[0m\n\u001b[1;32m     16\u001b[0m                 \u001b[0manswer\u001b[0m\u001b[0;34m[\u001b[0m\u001b[0mmx\u001b[0m\u001b[0;34m]\u001b[0m\u001b[0;34m[\u001b[0m\u001b[0mmx\u001b[0m\u001b[0;34m]\u001b[0m \u001b[0;34m=\u001b[0m \u001b[0manswer\u001b[0m\u001b[0;34m[\u001b[0m\u001b[0mmx\u001b[0m\u001b[0;34m]\u001b[0m\u001b[0;34m[\u001b[0m\u001b[0mmx\u001b[0m\u001b[0;34m-\u001b[0m\u001b[0;36m1\u001b[0m\u001b[0;34m]\u001b[0m\u001b[0;34m\u001b[0m\u001b[0;34m\u001b[0m\u001b[0m\n",
            "\u001b[0;31mUnboundLocalError\u001b[0m: local variable 'answer' referenced before assignment"
          ]
        }
      ],
      "source": [
        "def solution(rc, operations):\n",
        "    ans = []\n",
        "    ll = len(rc)\n",
        "    mx = ll-1\n",
        "    for stat in operations:\n",
        "        if stat == 'ShiftRow':\n",
        "            ans.append(rc[mx])\n",
        "            del rc[mx]\n",
        "            answer = ans + rc\n",
        "            #print(answer)\n",
        "        elif stat == 'Rotate':\n",
        "            for i in range(mx):\n",
        "                answer[0][i] = answer[0][i+1]\n",
        "                answer[i][mx] = answer[i+1][mx]\n",
        "                answer[mx][mx] = answer[mx][mx-1]\n",
        "                answer[mx][0] = answer[mx-1][0]\n",
        "\n",
        "    return answer\n",
        "\n",
        "rc = [[1, 2, 3], \n",
        "      [4, 5, 6], \n",
        "      [7, 8, 9]]\n",
        "operations =[\"Rotate\", \"ShiftRow\"]\n",
        "print(solution(rc, operations))\n",
        "#[[8, 9, 6], \n",
        "# [4, 1, 2], \n",
        "# [7, 5, 3]]"
      ]
    },
    {
      "cell_type": "code",
      "source": [
        "def solution(rc, operations):\n",
        "    m = len(rc)\n",
        "    ans = [[0]*m]*m\n",
        "    mx = m-1\n",
        "    for stat in operations:\n",
        "        if stat == 'Rotate':\n",
        "\n",
        "            for i in range(mx):\n",
        "                if rc[0][i]:\n",
        "                    ans[0][i+1] = rc[0][i]\n",
        "                elif rc[i][mx]:\n",
        "                    ans[i+1][mx] = rc[i][mx]\n",
        "                elif rc[mx][i+1]:\n",
        "                    ans[mx][mx-1::-1] = rc[mx][mx:0:-1]\n",
        "                elif rc[i+1][0]:\n",
        "                    ans[mx-1::-1][0] = rc[mx:0:-1][0]\n",
        "                else:\n",
        "                    pass #ans = rc\n",
        "    return ans\n",
        "\n",
        "rc = [[1, 2, 3], \n",
        "      [4, 5, 6], \n",
        "      [7, 8, 9]]\n",
        "operations =[\"Rotate\", \"ShiftRow\"]\n",
        "print(solution(rc, operations))\n",
        "#[[8, 9, 6], \n",
        "# [4, 1, 2], \n",
        "# [7, 5, 3]]"
      ],
      "metadata": {
        "colab": {
          "base_uri": "https://localhost:8080/"
        },
        "id": "Xt2TUTPgSlyr",
        "outputId": "19956cc0-e982-40fc-d95a-97586822443f"
      },
      "execution_count": 37,
      "outputs": [
        {
          "output_type": "stream",
          "name": "stdout",
          "text": [
            "[[0, 1, 2], [0, 1, 2], [0, 1, 2]]\n"
          ]
        }
      ]
    },
    {
      "cell_type": "code",
      "source": [
        "def solution(rc, operations):\n",
        "    m = len(rc)\n",
        "    n = m-1\n",
        "    answer = [[0]*m]*m\n",
        "    ans = []\n",
        "    for stat in operations:\n",
        "        if stat == 'ShiftRow':\n",
        "            ans.append(rc[n])\n",
        "            del rc[n]\n",
        "            solution = ans + rc\n",
        "        elif stat == 'Rotate':\n",
        "            #sol1=[]\n",
        "            sol1 = [rc[1][0]] + rc[0][:n]\n",
        "            \n",
        "            sol2=[]\n",
        "            for i in range(m):\n",
        "                sol2.append(rc[m-i-1][i])\n",
        "            #sol3=[]\n",
        "            sol3 = rc[n][1:] + [rc[n-1][n]]\n",
        "            print('sol1 :', sol1)\n",
        "            print('sol2 :', sol2)\n",
        "            print('sol3 :', sol3)\n",
        "            answer = [sol1,sol2,sol3]\n",
        "            \n",
        "    return answer\n",
        "rc = [[1, 2, 3], \n",
        "      [4, 5, 6], \n",
        "      [7, 8, 9]]\n",
        "operations =[\"Rotate\", \"ShiftRow\"]\n",
        "print(solution(rc, operations))"
      ],
      "metadata": {
        "colab": {
          "base_uri": "https://localhost:8080/"
        },
        "id": "EVSgRssChpfB",
        "outputId": "26fc384d-c419-48c2-9b2f-cc18fef05536"
      },
      "execution_count": 56,
      "outputs": [
        {
          "output_type": "stream",
          "name": "stdout",
          "text": [
            "sol1 : [4, 1, 2]\n",
            "sol2 : [7, 5, 3]\n",
            "sol3 : [8, 9, 6]\n",
            "[[4, 1, 2], [7, 5, 3], [8, 9, 6]]\n"
          ]
        }
      ]
    },
    {
      "cell_type": "code",
      "source": [
        "###### 왜 인덱스 에러???\n",
        "def solution(rc, operations):\n",
        "    m = len(rc)\n",
        "    n = m-1\n",
        "    answer = [[0]*m]*m\n",
        "    ans = []\n",
        "    for stat in operations:\n",
        "        if stat == 'ShiftRow':\n",
        "            ans.append(rc[n])\n",
        "            del rc[n]\n",
        "            answer = ans + rc\n",
        "\n",
        "        elif stat == 'Rotate':\n",
        "            sol1 = [rc[1][0]] + rc[0][:n]\n",
        "            sol2=[]\n",
        "            for i in range(m):\n",
        "                sol2.append(rc[m-i-1][i])\n",
        "            sol3 = rc[n][1:] + [rc[n-1][n]]\n",
        "            answer = [sol1,sol2,sol3]\n",
        "            \n",
        "    return answer\n",
        "rc = [[1, 2, 3], \n",
        "      [4, 5, 6], \n",
        "      [7, 8, 9]]\n",
        "operations =[\"Rotate\", \"ShiftRow\"]\n",
        "print(solution(rc, operations))\n",
        "#[[8, 9, 6], \n",
        "# [4, 1, 2], \n",
        "# [7, 5, 3]]"
      ],
      "metadata": {
        "colab": {
          "base_uri": "https://localhost:8080/"
        },
        "id": "Ei_yyXwmpj8T",
        "outputId": "130f1201-6853-4c91-b214-c57c1edb39fb"
      },
      "execution_count": 58,
      "outputs": [
        {
          "output_type": "stream",
          "name": "stdout",
          "text": [
            "[[7, 8, 9], [1, 2, 3], [4, 5, 6]]\n"
          ]
        }
      ]
    },
    {
      "cell_type": "code",
      "source": [
        "###### 3x3에 대해ㅐ서만 구현..\n",
        "def solution(rc, operations):\n",
        "    m = len(rc)\n",
        "    n = m-1\n",
        "    ans = []\n",
        "    rcc = rc.copy()\n",
        "    answer = [[0]*m]*m\n",
        "    for stat in operations:\n",
        "        if stat == 'ShiftRow':\n",
        "            ans.append(rcc[n])\n",
        "            del rcc[n]\n",
        "            answer = ans + rcc\n",
        "            print('S: ',answer)\n",
        "\n",
        "        elif stat == 'Rotate':\n",
        "            sol1 = [rcc[1][0]] + rcc[0][:n]\n",
        "            sol2=[]\n",
        "            for i in range(m):\n",
        "                sol2.append(rcc[m-i-1][i])\n",
        "            sol3 = rcc[n][1:] + [rcc[n-1][n]]\n",
        "            answer = [sol1,sol2,sol3]\n",
        "            print('R: ',answer)\n",
        "            rcc = answer\n",
        "\n",
        "    return answer\n",
        "rc = [[1, 2, 3], \n",
        "      [4, 5, 6], \n",
        "      [7, 8, 9]]\n",
        "operations =[\"Rotate\", \"ShiftRow\"]\n",
        "print(solution(rc, operations))\n",
        "#[[8, 9, 6], \n",
        "# [4, 1, 2], \n",
        "# [7, 5, 3]]"
      ],
      "metadata": {
        "colab": {
          "base_uri": "https://localhost:8080/"
        },
        "id": "n95udUf1qG4Z",
        "outputId": "f7def705-4a64-4b85-d4d7-992032ad254c"
      },
      "execution_count": 71,
      "outputs": [
        {
          "output_type": "stream",
          "name": "stdout",
          "text": [
            "R:  [[4, 1, 2], [7, 5, 3], [8, 9, 6]]\n",
            "S:  [[8, 9, 6], [4, 1, 2], [7, 5, 3]]\n",
            "[[8, 9, 6], [4, 1, 2], [7, 5, 3]]\n"
          ]
        }
      ]
    },
    {
      "cell_type": "code",
      "source": [
        "###### nxn에 대해 구현했는데..... 왜 1개만 통과?\n",
        "########### => ShiftRow 에 대해서는 nxn 구현 안함\n",
        "# IndexError: list index out of range\n",
        "\n",
        "def solution(rc, operations):\n",
        "    m = len(rc)\n",
        "    n = m-1\n",
        "    ans = []\n",
        "    rcc = rc.copy()\n",
        "    answer = [[0]*m]*m\n",
        "    for stat in operations:\n",
        "        if stat == 'ShiftRow':\n",
        "\n",
        "            ans.append(rcc[n])\n",
        "            del rcc[n]\n",
        "            answer = ans + rcc\n",
        "\n",
        "            print('S: ',answer)\n",
        "            rcc = answer\n",
        "\n",
        "        elif stat == 'Rotate':\n",
        "            for i in range(m):\n",
        "                if i == 0:\n",
        "                    sol1 = [rcc[1][0]] + rcc[0][:n]\n",
        "                if i == m-1:\n",
        "                    sol3 = rcc[n][1:] + [rcc[n-1][n]]\n",
        "                else:\n",
        "                    sol2=[]\n",
        "                    for k in range(m-2):\n",
        "                        sol2 = [rcc[k+2][0]] + rcc[k+1][1:n] + [rcc[k][n]]\n",
        "            answer = [sol1,sol2,sol3]\n",
        "            print('R: ',answer)\n",
        "            rcc = answer\n",
        "\n",
        "    return answer\n",
        "rc = [[1, 2, 3], \n",
        "      [4, 5, 6], \n",
        "      [7, 8, 9]]\n",
        "operations =[\"Rotate\", \"ShiftRow\"]\n",
        "print(solution(rc, operations))\n",
        "#[[8, 9, 6], \n",
        "# [4, 1, 2], \n",
        "# [7, 5, 3]]"
      ],
      "metadata": {
        "colab": {
          "base_uri": "https://localhost:8080/"
        },
        "id": "A5C74aVUs0p7",
        "outputId": "cc279e0d-9fad-4f91-a526-a8278d15da58"
      },
      "execution_count": 83,
      "outputs": [
        {
          "output_type": "stream",
          "name": "stdout",
          "text": [
            "R:  [[4, 1, 2], [7, 5, 3], [8, 9, 6]]\n",
            "S:  [[8, 9, 6], [4, 1, 2], [7, 5, 3]]\n",
            "[[8, 9, 6], [4, 1, 2], [7, 5, 3]]\n"
          ]
        }
      ]
    },
    {
      "cell_type": "code",
      "source": [
        "테스트 1\n",
        "입력값 〉\n",
        "[[1, 2, 3], [4, 5, 6], [7, 8, 9]], [\"Rotate\", \"ShiftRow\"]\n",
        "기댓값 〉\n",
        "[[8, 9, 6], [4, 1, 2], [7, 5, 3]]\n",
        "실행 결과 〉\n",
        "테스트를 통과하였습니다.\n",
        "출력 〉\n",
        "R:  [[4, 1, 2], [7, 5, 3], [8, 9, 6]]\n",
        "S:  [[8, 9, 6], [4, 1, 2], [7, 5, 3]]\n",
        "\n",
        "\n",
        "테스트 2\n",
        "입력값 〉\n",
        "[[8, 6, 3], [3, 3, 7], [8, 4, 9]], [\"Rotate\", \"ShiftRow\", \"ShiftRow\"]\n",
        "기댓값 〉\n",
        "[[8, 3, 3], [4, 9, 7], [3, 8, 6]]\n",
        "실행 결과 〉\n",
        "실행한 결괏값 [[4,9,7],[8,3,3],[4,9,7],[3,8,6]]이(가) 기댓값 [[8,3,3],[4,9,7],[3,8,6]]와(과) 다릅니다.\n",
        "출력 〉\n",
        "R:  [[3, 8, 6], [8, 3, 3], [4, 9, 7]]\n",
        "S:  [[4, 9, 7], [3, 8, 6], [8, 3, 3]]\n",
        "S:  [[4, 9, 7], [8, 3, 3], [4, 9, 7], [3, 8, 6]]\n",
        "\n",
        "\n",
        "테스트 3\n",
        "입력값 〉\n",
        "[[1, 2, 3, 4], [5, 6, 7, 8], [9, 10, 11, 12]], [\"ShiftRow\", \"Rotate\", \"ShiftRow\", \"Rotate\"]\n",
        "기댓값 〉\n",
        "[[1, 6, 7, 8], [5, 9, 10, 4], [2, 3, 12, 11]]\n",
        "실행 결과 〉\n",
        "실행한 결괏값 [[6,9,10],[1,7,11],[9,10,8]]이(가) 기댓값 [[1,6,7,8],[5,9,10,4],[2,3,12,11]]와(과) 다릅니다.\n",
        "출력 〉\n",
        "S:  [[9, 10, 11, 12], [1, 2, 3, 4], [5, 6, 7, 8]]\n",
        "R:  [[1, 9, 10], [5, 2, 11], [6, 7, 8, 3]]\n",
        "S:  [[9, 10, 11, 12], [6, 7, 8, 3], [1, 9, 10], [5, 2, 11]]\n",
        "R:  [[6, 9, 10], [1, 7, 11], [9, 10, 8]]\n",
        "\n",
        "\n",
        "테스트 결과 (~˘▾˘)~\n",
        "3개 중 1개 성공"
      ],
      "metadata": {
        "id": "nnKaYHaNxZl_"
      },
      "execution_count": null,
      "outputs": []
    },
    {
      "cell_type": "code",
      "source": [
        "###### nxn에 대해 구현했는데..... 왜 1개만 통과?\n",
        "########### => ShiftRow 에 대해서는 nxn 구현 안함\n",
        "# IndexError: list index out of range\n",
        "\n",
        "def solution(rc, operations):\n",
        "    m = len(rc)\n",
        "    n = m-1\n",
        "    rcc = rc.copy()\n",
        "    answer = [[0]*m]*m\n",
        "    for stat in operations:\n",
        "        if stat == 'ShiftRow':\n",
        "            ans = []\n",
        "            ans.append(rcc[n])\n",
        "            del rcc[n]\n",
        "            for x in range(n):\n",
        "                ans += [rcc[x]]\n",
        "            answer = ans\n",
        "            rcc = answer\n",
        "\n",
        "        elif stat == 'Rotate':\n",
        "            for i in range(m):\n",
        "                if i == 0:\n",
        "                    sol1 = [rcc[1][0]] + rcc[0][:n]\n",
        "                if i == m-1:\n",
        "                    sol3 = rcc[n][1:] + [rcc[n-1][n]]\n",
        "                else:\n",
        "                    sol2=[]\n",
        "                    for k in range(m-2):\n",
        "                        sol2 = [rcc[k+2][0]] + rcc[k+1][1:n] + [rcc[k][n]]\n",
        "            answer = [sol1,sol2,sol3]\n",
        "            print('R: ',answer)\n",
        "            rcc = answer\n",
        "\n",
        "    return answer\n",
        "\n",
        "rc = [[8, 6, 3], [3, 3, 7], [8, 4, 9]]\n",
        "operations =[\"Rotate\", \"ShiftRow\", \"ShiftRow\"]\n",
        "print(solution(rc, operations))\n",
        "# [[8, 3, 3], [4, 9, 7], [3, 8, 6]]"
      ],
      "metadata": {
        "colab": {
          "base_uri": "https://localhost:8080/"
        },
        "id": "XZ6S3LfJx_5V",
        "outputId": "1cc37961-d258-4f75-feeb-d6b4a71cd953"
      },
      "execution_count": 94,
      "outputs": [
        {
          "output_type": "stream",
          "name": "stdout",
          "text": [
            "R:  [[3, 8, 6], [8, 3, 3], [4, 9, 7]]\n",
            "S:  [[4, 9, 7], [3, 8, 6], [8, 3, 3]]\n",
            "S:  [[8, 3, 3], [4, 9, 7], [3, 8, 6]]\n",
            "[[8, 3, 3], [4, 9, 7], [3, 8, 6]]\n"
          ]
        }
      ]
    },
    {
      "cell_type": "code",
      "source": [
        "테스트 2\n",
        "입력값 〉\n",
        "[[8, 6, 3], [3, 3, 7], [8, 4, 9]], [\"Rotate\", \"ShiftRow\", \"ShiftRow\"]\n",
        "기댓값 〉\n",
        "[[8, 3, 3], [4, 9, 7], [3, 8, 6]]\n",
        "실행 결과 〉\n",
        "실행한 결괏값 [[4,9,7],[3,8,6],[8,3,3],[4,9,7],[3,8,6]]이(가) 기댓값 [[8,3,3],[4,9,7],[3,8,6]]와(과) 다릅니다.\n",
        "출력 〉\n",
        "R:  [[3, 8, 6], [8, 3, 3], [4, 9, 7]]\n",
        "############# 위까지 통과\n",
        "\n",
        "테스트 3\n",
        "입력값 〉\n",
        "[[1, 2, 3, 4], [5, 6, 7, 8], [9, 10, 11, 12]], [\"ShiftRow\", \"Rotate\", \"ShiftRow\", \"Rotate\"]\n",
        "기댓값 〉\n",
        "[[1, 6, 7, 8], [5, 9, 10, 4], [2, 3, 12, 11]]\n",
        "실행 결과 〉\n",
        "실행한 결괏값 [[1,9,10],[5,2,11],[6,7,8,3]]이(가) 기댓값 [[1,6,7,8],[5,9,10,4],[2,3,12,11]]와(과) 다릅니다.\n",
        "출력 〉\n",
        "R:  [[1, 9, 10], [5, 2, 11], [6, 7, 8, 3]]\n",
        "R:  [[1, 9, 10], [5, 2, 11], [6, 7, 8, 3]]"
      ],
      "metadata": {
        "id": "0hX2hh-uzv4r"
      },
      "execution_count": null,
      "outputs": []
    },
    {
      "cell_type": "code",
      "source": [
        "###### nxn에 대해 구현했는데..... 왜 1개만 통과?\n",
        "########### => ShiftRow 에 대해서는 nxn 구현 안함\n",
        "# IndexError: list index out of range\n",
        "\n",
        "def solution(rc, operations):\n",
        "    m = len(rc) # 행 \n",
        "    j = len(rc[0]) # 열\n",
        "    n = m-1\n",
        "    rcc = rc.copy()\n",
        "    answer = [[0]*m]*m\n",
        "    for stat in operations:\n",
        "        if stat == 'ShiftRow':\n",
        "            ans = []\n",
        "            ans.append(rcc[n])\n",
        "            del rcc[n]\n",
        "            for x in range(n):\n",
        "                ans += [rcc[x]]\n",
        "            answer = ans\n",
        "            print('S: ',answer)\n",
        "            rcc = answer\n",
        "\n",
        "        elif stat == 'Rotate':\n",
        "            for i in range(m):\n",
        "                # 첫 행\n",
        "                if i == 0:\n",
        "                    sol1 = [rcc[1][0]] + rcc[0][:j-1]\n",
        "                # 끝 행\n",
        "                if i == m-1:\n",
        "                    sol3 = rcc[n][1:] + [rcc[n-1][j-1]]\n",
        "                # 중간 행들\n",
        "                else:\n",
        "                    sol2=[]\n",
        "                    for k in range(m-2):\n",
        "                        sol2 = [rcc[k+2][0]] + rcc[k+1][1:j-1] + [rcc[k][j-1]]\n",
        "            answer = [sol1,sol2,sol3]\n",
        "            print('R: ',answer)\n",
        "            rcc = answer\n",
        "\n",
        "    return answer\n",
        "\n",
        "rc = [[1, 2, 3, 4], [5, 6, 7, 8], [9, 10, 11, 12]]\n",
        "operations =[\"ShiftRow\", \"Rotate\", \"ShiftRow\", \"Rotate\"]\n",
        "print(solution(rc, operations))\n",
        "# [[1,6,7,8],[5,9,10,4],[2,3,12,11]]"
      ],
      "metadata": {
        "colab": {
          "base_uri": "https://localhost:8080/"
        },
        "id": "d0Gl1Jrw1h-4",
        "outputId": "ea16366f-9f83-4ce7-bfd7-8d3f5b8a517b"
      },
      "execution_count": 98,
      "outputs": [
        {
          "output_type": "stream",
          "name": "stdout",
          "text": [
            "S:  [[9, 10, 11, 12], [1, 2, 3, 4], [5, 6, 7, 8]]\n",
            "R:  [[1, 9, 10, 11], [5, 2, 3, 12], [6, 7, 8, 4]]\n",
            "S:  [[6, 7, 8, 4], [1, 9, 10, 11], [5, 2, 3, 12]]\n",
            "R:  [[1, 6, 7, 8], [5, 9, 10, 4], [2, 3, 12, 11]]\n",
            "[[1, 6, 7, 8], [5, 9, 10, 4], [2, 3, 12, 11]]\n"
          ]
        }
      ]
    },
    {
      "cell_type": "code",
      "source": [
        "정확성 테스트\n",
        "테스트 1 〉 통과 (0.03ms, 10.2MB)\n",
        "테스트 2 〉 실패 (런타임 에러)\n",
        "테스트 3 〉 통과 (4.79ms, 10.2MB)\n",
        "테스트 4 〉 실패 (런타임 에러)\n",
        "테스트 5 〉 실패 (런타임 에러)\n",
        "테스트 6 〉 실패 (런타임 에러)\n",
        "테스트 7 〉 실패 (출력 크기 초과)\n",
        "테스트 8 〉 실패 (런타임 에러)\n",
        "테스트 9 〉 실패 (런타임 에러)\n",
        "테스트 10 〉 실패 (출력 크기 초과)\n",
        "\n",
        "효율성 테스트\n",
        "테스트 1 〉 실패 (런타임 에러)\n",
        "테스트 2 〉 실패 (출력 크기 초과)\n",
        "테스트 3 〉 실패 (출력 크기 초과)\n",
        "테스트 4 〉 실패 (출력 크기 초과)\n",
        "테스트 5 〉 실패 (출력 크기 초과)\n",
        "테스트 6 〉 실패 (시간 초과)\n",
        "테스트 7 〉 실패 (출력 크기 초과)\n",
        "테스트 8 〉 실패 (출력 크기 초과)\n",
        "테스트 9 〉 실패 (출력 크기 초과)\n",
        "채점 결과\n",
        "합계: 3 / 3"
      ],
      "metadata": {
        "id": "f2mBPt6p43RS"
      },
      "execution_count": null,
      "outputs": []
    },
    {
      "cell_type": "markdown",
      "source": [
        "### test"
      ],
      "metadata": {
        "id": "olggX2NExiGK"
      }
    },
    {
      "cell_type": "code",
      "source": [
        "def solution(rc, operations):\n",
        "    m = len(rc)\n",
        "    ans = [[0]*m]*m\n",
        "    mx = m-1\n",
        "    for stat in operations:\n",
        "        if stat == 'Rotate':\n",
        "\n",
        "            for i in range(mx):\n",
        "                ans[0][i+1] = rc[0][i]\n",
        "                print('1: ',ans)\n",
        "                ans[i+1][mx] = rc[i][mx]\n",
        "                ans[mx][mx-1::-1] = rc[mx][mx:0:-1]\n",
        "                ans[mx-1::-1][0] = rc[mx:0:-1][0]\n",
        "\n",
        "    return ans\n",
        "\n",
        "rc = [[1, 2, 3], \n",
        "      [4, 5, 6], \n",
        "      [7, 8, 9]]\n",
        "operations =[\"Rotate\", \"ShiftRow\"]\n",
        "print(solution(rc, operations))\n",
        "#[[8, 9, 6], \n",
        "# [4, 1, 2], \n",
        "# [7, 5, 3]]"
      ],
      "metadata": {
        "colab": {
          "base_uri": "https://localhost:8080/"
        },
        "id": "vqqJnokBdbUv",
        "outputId": "9cf4cc6d-1ebf-4547-fc50-eb999b27a190"
      },
      "execution_count": 40,
      "outputs": [
        {
          "output_type": "stream",
          "name": "stdout",
          "text": [
            "1:  [[0, 1, 0], [0, 1, 0], [0, 1, 0]]\n",
            "1:  [[8, 9, 2], [8, 9, 2], [8, 9, 2]]\n",
            "[[8, 9, 6], [8, 9, 6], [8, 9, 6]]\n"
          ]
        }
      ]
    },
    {
      "cell_type": "code",
      "source": [
        "arr = [0,1,2,3]\n",
        "n = len(arr) # 4\n",
        "arr[n:0:-1]"
      ],
      "metadata": {
        "colab": {
          "base_uri": "https://localhost:8080/"
        },
        "id": "exHeFCRvZIh-",
        "outputId": "6d313d0d-6c8b-417b-a8ff-bd2dbd418a2b"
      },
      "execution_count": 36,
      "outputs": [
        {
          "output_type": "execute_result",
          "data": {
            "text/plain": [
              "[3, 2, 1]"
            ]
          },
          "metadata": {},
          "execution_count": 36
        }
      ]
    },
    {
      "cell_type": "code",
      "source": [
        "# 시계방향 90도 회전\n",
        "def rotated(a):\n",
        "    n=len(a)\n",
        "    m=len(a[0])\n",
        "    result=[[0]*n for _ in range(m)]\n",
        "    for i in range(n):\n",
        "        for j in range(m):\n",
        "            result[j][n-i-1]=a[i][j]\n",
        "  \n",
        "    return result\n",
        "\n",
        "test = [[1,2,3], [4,5,6], [7,8,9]]\n",
        "print(rotated(test))"
      ],
      "metadata": {
        "colab": {
          "base_uri": "https://localhost:8080/"
        },
        "id": "uDf8RxVKWuDF",
        "outputId": "c0382d9e-d346-4c05-e515-17642dc02a01"
      },
      "execution_count": 28,
      "outputs": [
        {
          "output_type": "stream",
          "name": "stdout",
          "text": [
            "[[0, 0, 7], [0, 0, 8], [0, 0, 9]]\n"
          ]
        }
      ]
    }
  ]
}